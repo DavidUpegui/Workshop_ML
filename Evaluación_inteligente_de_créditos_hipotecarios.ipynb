{
  "nbformat": 4,
  "nbformat_minor": 0,
  "metadata": {
    "colab": {
      "provenance": [],
      "toc_visible": true,
      "include_colab_link": true
    },
    "kernelspec": {
      "name": "python3",
      "display_name": "Python 3"
    },
    "language_info": {
      "name": "python"
    }
  },
  "cells": [
    {
      "cell_type": "markdown",
      "metadata": {
        "id": "view-in-github",
        "colab_type": "text"
      },
      "source": [
        "<a href=\"https://colab.research.google.com/github/DavidUpegui/Workshop_ML/blob/main/Evaluaci%C3%B3n_inteligente_de_cr%C3%A9ditos_hipotecarios.ipynb\" target=\"_parent\"><img src=\"https://colab.research.google.com/assets/colab-badge.svg\" alt=\"Open In Colab\"/></a>"
      ]
    },
    {
      "cell_type": "markdown",
      "source": [
        "#Sé mi aprobación hipotecaria: Evaluación inteligente de créditos hipotecarios"
      ],
      "metadata": {
        "id": "DoC1qO3HsBtv"
      }
    },
    {
      "cell_type": "markdown",
      "source": [
        "##Inicialización"
      ],
      "metadata": {
        "id": "C-Mm4KQs-XDQ"
      }
    },
    {
      "cell_type": "code",
      "source": [
        "#Importar e instalar librerías\n",
        "import pandas as pd\n",
        "import numpy as np"
      ],
      "metadata": {
        "id": "-VcHTrhZ_L8Y"
      },
      "execution_count": null,
      "outputs": []
    },
    {
      "cell_type": "code",
      "source": [
        "#Para importar datos de Google Drive\n",
        "from google.colab import drive\n",
        "drive.mount('/content/drive')"
      ],
      "metadata": {
        "colab": {
          "base_uri": "https://localhost:8080/"
        },
        "id": "O89aPpHc_FC8",
        "outputId": "01d692b7-1c17-4947-afd0-cede6b8aa8f0"
      },
      "execution_count": null,
      "outputs": [
        {
          "output_type": "stream",
          "name": "stdout",
          "text": [
            "Drive already mounted at /content/drive; to attempt to forcibly remount, call drive.mount(\"/content/drive\", force_remount=True).\n"
          ]
        }
      ]
    },
    {
      "cell_type": "code",
      "source": [
        "#Importar la data\n",
        "path = '/content/drive/MyDrive/Modelos II/Proyecto final/data/' #Change this path for your own path\n",
        "raw_data = pd.read_csv(path + 'loan_sanction_train.csv')\n",
        "raw_data.head(5)"
      ],
      "metadata": {
        "colab": {
          "base_uri": "https://localhost:8080/",
          "height": 243
        },
        "id": "t8oCygSl_hB3",
        "outputId": "1c365f9f-9bfd-40a1-d8c6-63861b099c43"
      },
      "execution_count": null,
      "outputs": [
        {
          "output_type": "execute_result",
          "data": {
            "text/plain": [
              "    Loan_ID Gender Married Dependents     Education Self_Employed  \\\n",
              "0  LP001002   Male      No          0      Graduate            No   \n",
              "1  LP001003   Male     Yes          1      Graduate            No   \n",
              "2  LP001005   Male     Yes          0      Graduate           Yes   \n",
              "3  LP001006   Male     Yes          0  Not Graduate            No   \n",
              "4  LP001008   Male      No          0      Graduate            No   \n",
              "\n",
              "   ApplicantIncome  CoapplicantIncome  LoanAmount  Loan_Amount_Term  \\\n",
              "0             5849                0.0         NaN             360.0   \n",
              "1             4583             1508.0       128.0             360.0   \n",
              "2             3000                0.0        66.0             360.0   \n",
              "3             2583             2358.0       120.0             360.0   \n",
              "4             6000                0.0       141.0             360.0   \n",
              "\n",
              "   Credit_History Property_Area Loan_Status  \n",
              "0             1.0         Urban           Y  \n",
              "1             1.0         Rural           N  \n",
              "2             1.0         Urban           Y  \n",
              "3             1.0         Urban           Y  \n",
              "4             1.0         Urban           Y  "
            ],
            "text/html": [
              "\n",
              "  <div id=\"df-dd4b10ed-6de9-486f-b9d3-cdd706d10101\" class=\"colab-df-container\">\n",
              "    <div>\n",
              "<style scoped>\n",
              "    .dataframe tbody tr th:only-of-type {\n",
              "        vertical-align: middle;\n",
              "    }\n",
              "\n",
              "    .dataframe tbody tr th {\n",
              "        vertical-align: top;\n",
              "    }\n",
              "\n",
              "    .dataframe thead th {\n",
              "        text-align: right;\n",
              "    }\n",
              "</style>\n",
              "<table border=\"1\" class=\"dataframe\">\n",
              "  <thead>\n",
              "    <tr style=\"text-align: right;\">\n",
              "      <th></th>\n",
              "      <th>Loan_ID</th>\n",
              "      <th>Gender</th>\n",
              "      <th>Married</th>\n",
              "      <th>Dependents</th>\n",
              "      <th>Education</th>\n",
              "      <th>Self_Employed</th>\n",
              "      <th>ApplicantIncome</th>\n",
              "      <th>CoapplicantIncome</th>\n",
              "      <th>LoanAmount</th>\n",
              "      <th>Loan_Amount_Term</th>\n",
              "      <th>Credit_History</th>\n",
              "      <th>Property_Area</th>\n",
              "      <th>Loan_Status</th>\n",
              "    </tr>\n",
              "  </thead>\n",
              "  <tbody>\n",
              "    <tr>\n",
              "      <th>0</th>\n",
              "      <td>LP001002</td>\n",
              "      <td>Male</td>\n",
              "      <td>No</td>\n",
              "      <td>0</td>\n",
              "      <td>Graduate</td>\n",
              "      <td>No</td>\n",
              "      <td>5849</td>\n",
              "      <td>0.0</td>\n",
              "      <td>NaN</td>\n",
              "      <td>360.0</td>\n",
              "      <td>1.0</td>\n",
              "      <td>Urban</td>\n",
              "      <td>Y</td>\n",
              "    </tr>\n",
              "    <tr>\n",
              "      <th>1</th>\n",
              "      <td>LP001003</td>\n",
              "      <td>Male</td>\n",
              "      <td>Yes</td>\n",
              "      <td>1</td>\n",
              "      <td>Graduate</td>\n",
              "      <td>No</td>\n",
              "      <td>4583</td>\n",
              "      <td>1508.0</td>\n",
              "      <td>128.0</td>\n",
              "      <td>360.0</td>\n",
              "      <td>1.0</td>\n",
              "      <td>Rural</td>\n",
              "      <td>N</td>\n",
              "    </tr>\n",
              "    <tr>\n",
              "      <th>2</th>\n",
              "      <td>LP001005</td>\n",
              "      <td>Male</td>\n",
              "      <td>Yes</td>\n",
              "      <td>0</td>\n",
              "      <td>Graduate</td>\n",
              "      <td>Yes</td>\n",
              "      <td>3000</td>\n",
              "      <td>0.0</td>\n",
              "      <td>66.0</td>\n",
              "      <td>360.0</td>\n",
              "      <td>1.0</td>\n",
              "      <td>Urban</td>\n",
              "      <td>Y</td>\n",
              "    </tr>\n",
              "    <tr>\n",
              "      <th>3</th>\n",
              "      <td>LP001006</td>\n",
              "      <td>Male</td>\n",
              "      <td>Yes</td>\n",
              "      <td>0</td>\n",
              "      <td>Not Graduate</td>\n",
              "      <td>No</td>\n",
              "      <td>2583</td>\n",
              "      <td>2358.0</td>\n",
              "      <td>120.0</td>\n",
              "      <td>360.0</td>\n",
              "      <td>1.0</td>\n",
              "      <td>Urban</td>\n",
              "      <td>Y</td>\n",
              "    </tr>\n",
              "    <tr>\n",
              "      <th>4</th>\n",
              "      <td>LP001008</td>\n",
              "      <td>Male</td>\n",
              "      <td>No</td>\n",
              "      <td>0</td>\n",
              "      <td>Graduate</td>\n",
              "      <td>No</td>\n",
              "      <td>6000</td>\n",
              "      <td>0.0</td>\n",
              "      <td>141.0</td>\n",
              "      <td>360.0</td>\n",
              "      <td>1.0</td>\n",
              "      <td>Urban</td>\n",
              "      <td>Y</td>\n",
              "    </tr>\n",
              "  </tbody>\n",
              "</table>\n",
              "</div>\n",
              "    <div class=\"colab-df-buttons\">\n",
              "\n",
              "  <div class=\"colab-df-container\">\n",
              "    <button class=\"colab-df-convert\" onclick=\"convertToInteractive('df-dd4b10ed-6de9-486f-b9d3-cdd706d10101')\"\n",
              "            title=\"Convert this dataframe to an interactive table.\"\n",
              "            style=\"display:none;\">\n",
              "\n",
              "  <svg xmlns=\"http://www.w3.org/2000/svg\" height=\"24px\" viewBox=\"0 -960 960 960\">\n",
              "    <path d=\"M120-120v-720h720v720H120Zm60-500h600v-160H180v160Zm220 220h160v-160H400v160Zm0 220h160v-160H400v160ZM180-400h160v-160H180v160Zm440 0h160v-160H620v160ZM180-180h160v-160H180v160Zm440 0h160v-160H620v160Z\"/>\n",
              "  </svg>\n",
              "    </button>\n",
              "\n",
              "  <style>\n",
              "    .colab-df-container {\n",
              "      display:flex;\n",
              "      gap: 12px;\n",
              "    }\n",
              "\n",
              "    .colab-df-convert {\n",
              "      background-color: #E8F0FE;\n",
              "      border: none;\n",
              "      border-radius: 50%;\n",
              "      cursor: pointer;\n",
              "      display: none;\n",
              "      fill: #1967D2;\n",
              "      height: 32px;\n",
              "      padding: 0 0 0 0;\n",
              "      width: 32px;\n",
              "    }\n",
              "\n",
              "    .colab-df-convert:hover {\n",
              "      background-color: #E2EBFA;\n",
              "      box-shadow: 0px 1px 2px rgba(60, 64, 67, 0.3), 0px 1px 3px 1px rgba(60, 64, 67, 0.15);\n",
              "      fill: #174EA6;\n",
              "    }\n",
              "\n",
              "    .colab-df-buttons div {\n",
              "      margin-bottom: 4px;\n",
              "    }\n",
              "\n",
              "    [theme=dark] .colab-df-convert {\n",
              "      background-color: #3B4455;\n",
              "      fill: #D2E3FC;\n",
              "    }\n",
              "\n",
              "    [theme=dark] .colab-df-convert:hover {\n",
              "      background-color: #434B5C;\n",
              "      box-shadow: 0px 1px 3px 1px rgba(0, 0, 0, 0.15);\n",
              "      filter: drop-shadow(0px 1px 2px rgba(0, 0, 0, 0.3));\n",
              "      fill: #FFFFFF;\n",
              "    }\n",
              "  </style>\n",
              "\n",
              "    <script>\n",
              "      const buttonEl =\n",
              "        document.querySelector('#df-dd4b10ed-6de9-486f-b9d3-cdd706d10101 button.colab-df-convert');\n",
              "      buttonEl.style.display =\n",
              "        google.colab.kernel.accessAllowed ? 'block' : 'none';\n",
              "\n",
              "      async function convertToInteractive(key) {\n",
              "        const element = document.querySelector('#df-dd4b10ed-6de9-486f-b9d3-cdd706d10101');\n",
              "        const dataTable =\n",
              "          await google.colab.kernel.invokeFunction('convertToInteractive',\n",
              "                                                    [key], {});\n",
              "        if (!dataTable) return;\n",
              "\n",
              "        const docLinkHtml = 'Like what you see? Visit the ' +\n",
              "          '<a target=\"_blank\" href=https://colab.research.google.com/notebooks/data_table.ipynb>data table notebook</a>'\n",
              "          + ' to learn more about interactive tables.';\n",
              "        element.innerHTML = '';\n",
              "        dataTable['output_type'] = 'display_data';\n",
              "        await google.colab.output.renderOutput(dataTable, element);\n",
              "        const docLink = document.createElement('div');\n",
              "        docLink.innerHTML = docLinkHtml;\n",
              "        element.appendChild(docLink);\n",
              "      }\n",
              "    </script>\n",
              "  </div>\n",
              "\n",
              "\n",
              "<div id=\"df-973d8a65-6c92-4e27-8c05-c967737e1776\">\n",
              "  <button class=\"colab-df-quickchart\" onclick=\"quickchart('df-973d8a65-6c92-4e27-8c05-c967737e1776')\"\n",
              "            title=\"Suggest charts.\"\n",
              "            style=\"display:none;\">\n",
              "\n",
              "<svg xmlns=\"http://www.w3.org/2000/svg\" height=\"24px\"viewBox=\"0 0 24 24\"\n",
              "     width=\"24px\">\n",
              "    <g>\n",
              "        <path d=\"M19 3H5c-1.1 0-2 .9-2 2v14c0 1.1.9 2 2 2h14c1.1 0 2-.9 2-2V5c0-1.1-.9-2-2-2zM9 17H7v-7h2v7zm4 0h-2V7h2v10zm4 0h-2v-4h2v4z\"/>\n",
              "    </g>\n",
              "</svg>\n",
              "  </button>\n",
              "\n",
              "<style>\n",
              "  .colab-df-quickchart {\n",
              "      --bg-color: #E8F0FE;\n",
              "      --fill-color: #1967D2;\n",
              "      --hover-bg-color: #E2EBFA;\n",
              "      --hover-fill-color: #174EA6;\n",
              "      --disabled-fill-color: #AAA;\n",
              "      --disabled-bg-color: #DDD;\n",
              "  }\n",
              "\n",
              "  [theme=dark] .colab-df-quickchart {\n",
              "      --bg-color: #3B4455;\n",
              "      --fill-color: #D2E3FC;\n",
              "      --hover-bg-color: #434B5C;\n",
              "      --hover-fill-color: #FFFFFF;\n",
              "      --disabled-bg-color: #3B4455;\n",
              "      --disabled-fill-color: #666;\n",
              "  }\n",
              "\n",
              "  .colab-df-quickchart {\n",
              "    background-color: var(--bg-color);\n",
              "    border: none;\n",
              "    border-radius: 50%;\n",
              "    cursor: pointer;\n",
              "    display: none;\n",
              "    fill: var(--fill-color);\n",
              "    height: 32px;\n",
              "    padding: 0;\n",
              "    width: 32px;\n",
              "  }\n",
              "\n",
              "  .colab-df-quickchart:hover {\n",
              "    background-color: var(--hover-bg-color);\n",
              "    box-shadow: 0 1px 2px rgba(60, 64, 67, 0.3), 0 1px 3px 1px rgba(60, 64, 67, 0.15);\n",
              "    fill: var(--button-hover-fill-color);\n",
              "  }\n",
              "\n",
              "  .colab-df-quickchart-complete:disabled,\n",
              "  .colab-df-quickchart-complete:disabled:hover {\n",
              "    background-color: var(--disabled-bg-color);\n",
              "    fill: var(--disabled-fill-color);\n",
              "    box-shadow: none;\n",
              "  }\n",
              "\n",
              "  .colab-df-spinner {\n",
              "    border: 2px solid var(--fill-color);\n",
              "    border-color: transparent;\n",
              "    border-bottom-color: var(--fill-color);\n",
              "    animation:\n",
              "      spin 1s steps(1) infinite;\n",
              "  }\n",
              "\n",
              "  @keyframes spin {\n",
              "    0% {\n",
              "      border-color: transparent;\n",
              "      border-bottom-color: var(--fill-color);\n",
              "      border-left-color: var(--fill-color);\n",
              "    }\n",
              "    20% {\n",
              "      border-color: transparent;\n",
              "      border-left-color: var(--fill-color);\n",
              "      border-top-color: var(--fill-color);\n",
              "    }\n",
              "    30% {\n",
              "      border-color: transparent;\n",
              "      border-left-color: var(--fill-color);\n",
              "      border-top-color: var(--fill-color);\n",
              "      border-right-color: var(--fill-color);\n",
              "    }\n",
              "    40% {\n",
              "      border-color: transparent;\n",
              "      border-right-color: var(--fill-color);\n",
              "      border-top-color: var(--fill-color);\n",
              "    }\n",
              "    60% {\n",
              "      border-color: transparent;\n",
              "      border-right-color: var(--fill-color);\n",
              "    }\n",
              "    80% {\n",
              "      border-color: transparent;\n",
              "      border-right-color: var(--fill-color);\n",
              "      border-bottom-color: var(--fill-color);\n",
              "    }\n",
              "    90% {\n",
              "      border-color: transparent;\n",
              "      border-bottom-color: var(--fill-color);\n",
              "    }\n",
              "  }\n",
              "</style>\n",
              "\n",
              "  <script>\n",
              "    async function quickchart(key) {\n",
              "      const quickchartButtonEl =\n",
              "        document.querySelector('#' + key + ' button');\n",
              "      quickchartButtonEl.disabled = true;  // To prevent multiple clicks.\n",
              "      quickchartButtonEl.classList.add('colab-df-spinner');\n",
              "      try {\n",
              "        const charts = await google.colab.kernel.invokeFunction(\n",
              "            'suggestCharts', [key], {});\n",
              "      } catch (error) {\n",
              "        console.error('Error during call to suggestCharts:', error);\n",
              "      }\n",
              "      quickchartButtonEl.classList.remove('colab-df-spinner');\n",
              "      quickchartButtonEl.classList.add('colab-df-quickchart-complete');\n",
              "    }\n",
              "    (() => {\n",
              "      let quickchartButtonEl =\n",
              "        document.querySelector('#df-973d8a65-6c92-4e27-8c05-c967737e1776 button');\n",
              "      quickchartButtonEl.style.display =\n",
              "        google.colab.kernel.accessAllowed ? 'block' : 'none';\n",
              "    })();\n",
              "  </script>\n",
              "</div>\n",
              "    </div>\n",
              "  </div>\n"
            ]
          },
          "metadata": {},
          "execution_count": 53
        }
      ]
    },
    {
      "cell_type": "markdown",
      "source": [
        "##Limpieza de datos\n"
      ],
      "metadata": {
        "id": "UPM0GZUx-ZFW"
      }
    },
    {
      "cell_type": "markdown",
      "source": [
        "###Eliminación de columnas innecesarias\n",
        "\n",
        "La columna ```Loan_id``` es una columna que no aporta información importante en la creación del modelo, por lo tanto esta es removida de la base de datos con la que trabajaremos"
      ],
      "metadata": {
        "id": "SZ6QUfd0-bl3"
      }
    },
    {
      "cell_type": "code",
      "source": [
        "raw_data = raw_data.drop('Loan_ID', axis=1)\n",
        "raw_data.head(5)"
      ],
      "metadata": {
        "colab": {
          "base_uri": "https://localhost:8080/",
          "height": 243
        },
        "id": "T6LArMH1B9gc",
        "outputId": "00811e45-5f75-4c9a-ec33-9f7ba75dd7b5"
      },
      "execution_count": null,
      "outputs": [
        {
          "output_type": "execute_result",
          "data": {
            "text/plain": [
              "  Gender Married Dependents     Education Self_Employed  ApplicantIncome  \\\n",
              "0   Male      No          0      Graduate            No             5849   \n",
              "1   Male     Yes          1      Graduate            No             4583   \n",
              "2   Male     Yes          0      Graduate           Yes             3000   \n",
              "3   Male     Yes          0  Not Graduate            No             2583   \n",
              "4   Male      No          0      Graduate            No             6000   \n",
              "\n",
              "   CoapplicantIncome  LoanAmount  Loan_Amount_Term  Credit_History  \\\n",
              "0                0.0         NaN             360.0             1.0   \n",
              "1             1508.0       128.0             360.0             1.0   \n",
              "2                0.0        66.0             360.0             1.0   \n",
              "3             2358.0       120.0             360.0             1.0   \n",
              "4                0.0       141.0             360.0             1.0   \n",
              "\n",
              "  Property_Area Loan_Status  \n",
              "0         Urban           Y  \n",
              "1         Rural           N  \n",
              "2         Urban           Y  \n",
              "3         Urban           Y  \n",
              "4         Urban           Y  "
            ],
            "text/html": [
              "\n",
              "  <div id=\"df-a99c8048-f80b-4b0d-a911-eadd19c340be\" class=\"colab-df-container\">\n",
              "    <div>\n",
              "<style scoped>\n",
              "    .dataframe tbody tr th:only-of-type {\n",
              "        vertical-align: middle;\n",
              "    }\n",
              "\n",
              "    .dataframe tbody tr th {\n",
              "        vertical-align: top;\n",
              "    }\n",
              "\n",
              "    .dataframe thead th {\n",
              "        text-align: right;\n",
              "    }\n",
              "</style>\n",
              "<table border=\"1\" class=\"dataframe\">\n",
              "  <thead>\n",
              "    <tr style=\"text-align: right;\">\n",
              "      <th></th>\n",
              "      <th>Gender</th>\n",
              "      <th>Married</th>\n",
              "      <th>Dependents</th>\n",
              "      <th>Education</th>\n",
              "      <th>Self_Employed</th>\n",
              "      <th>ApplicantIncome</th>\n",
              "      <th>CoapplicantIncome</th>\n",
              "      <th>LoanAmount</th>\n",
              "      <th>Loan_Amount_Term</th>\n",
              "      <th>Credit_History</th>\n",
              "      <th>Property_Area</th>\n",
              "      <th>Loan_Status</th>\n",
              "    </tr>\n",
              "  </thead>\n",
              "  <tbody>\n",
              "    <tr>\n",
              "      <th>0</th>\n",
              "      <td>Male</td>\n",
              "      <td>No</td>\n",
              "      <td>0</td>\n",
              "      <td>Graduate</td>\n",
              "      <td>No</td>\n",
              "      <td>5849</td>\n",
              "      <td>0.0</td>\n",
              "      <td>NaN</td>\n",
              "      <td>360.0</td>\n",
              "      <td>1.0</td>\n",
              "      <td>Urban</td>\n",
              "      <td>Y</td>\n",
              "    </tr>\n",
              "    <tr>\n",
              "      <th>1</th>\n",
              "      <td>Male</td>\n",
              "      <td>Yes</td>\n",
              "      <td>1</td>\n",
              "      <td>Graduate</td>\n",
              "      <td>No</td>\n",
              "      <td>4583</td>\n",
              "      <td>1508.0</td>\n",
              "      <td>128.0</td>\n",
              "      <td>360.0</td>\n",
              "      <td>1.0</td>\n",
              "      <td>Rural</td>\n",
              "      <td>N</td>\n",
              "    </tr>\n",
              "    <tr>\n",
              "      <th>2</th>\n",
              "      <td>Male</td>\n",
              "      <td>Yes</td>\n",
              "      <td>0</td>\n",
              "      <td>Graduate</td>\n",
              "      <td>Yes</td>\n",
              "      <td>3000</td>\n",
              "      <td>0.0</td>\n",
              "      <td>66.0</td>\n",
              "      <td>360.0</td>\n",
              "      <td>1.0</td>\n",
              "      <td>Urban</td>\n",
              "      <td>Y</td>\n",
              "    </tr>\n",
              "    <tr>\n",
              "      <th>3</th>\n",
              "      <td>Male</td>\n",
              "      <td>Yes</td>\n",
              "      <td>0</td>\n",
              "      <td>Not Graduate</td>\n",
              "      <td>No</td>\n",
              "      <td>2583</td>\n",
              "      <td>2358.0</td>\n",
              "      <td>120.0</td>\n",
              "      <td>360.0</td>\n",
              "      <td>1.0</td>\n",
              "      <td>Urban</td>\n",
              "      <td>Y</td>\n",
              "    </tr>\n",
              "    <tr>\n",
              "      <th>4</th>\n",
              "      <td>Male</td>\n",
              "      <td>No</td>\n",
              "      <td>0</td>\n",
              "      <td>Graduate</td>\n",
              "      <td>No</td>\n",
              "      <td>6000</td>\n",
              "      <td>0.0</td>\n",
              "      <td>141.0</td>\n",
              "      <td>360.0</td>\n",
              "      <td>1.0</td>\n",
              "      <td>Urban</td>\n",
              "      <td>Y</td>\n",
              "    </tr>\n",
              "  </tbody>\n",
              "</table>\n",
              "</div>\n",
              "    <div class=\"colab-df-buttons\">\n",
              "\n",
              "  <div class=\"colab-df-container\">\n",
              "    <button class=\"colab-df-convert\" onclick=\"convertToInteractive('df-a99c8048-f80b-4b0d-a911-eadd19c340be')\"\n",
              "            title=\"Convert this dataframe to an interactive table.\"\n",
              "            style=\"display:none;\">\n",
              "\n",
              "  <svg xmlns=\"http://www.w3.org/2000/svg\" height=\"24px\" viewBox=\"0 -960 960 960\">\n",
              "    <path d=\"M120-120v-720h720v720H120Zm60-500h600v-160H180v160Zm220 220h160v-160H400v160Zm0 220h160v-160H400v160ZM180-400h160v-160H180v160Zm440 0h160v-160H620v160ZM180-180h160v-160H180v160Zm440 0h160v-160H620v160Z\"/>\n",
              "  </svg>\n",
              "    </button>\n",
              "\n",
              "  <style>\n",
              "    .colab-df-container {\n",
              "      display:flex;\n",
              "      gap: 12px;\n",
              "    }\n",
              "\n",
              "    .colab-df-convert {\n",
              "      background-color: #E8F0FE;\n",
              "      border: none;\n",
              "      border-radius: 50%;\n",
              "      cursor: pointer;\n",
              "      display: none;\n",
              "      fill: #1967D2;\n",
              "      height: 32px;\n",
              "      padding: 0 0 0 0;\n",
              "      width: 32px;\n",
              "    }\n",
              "\n",
              "    .colab-df-convert:hover {\n",
              "      background-color: #E2EBFA;\n",
              "      box-shadow: 0px 1px 2px rgba(60, 64, 67, 0.3), 0px 1px 3px 1px rgba(60, 64, 67, 0.15);\n",
              "      fill: #174EA6;\n",
              "    }\n",
              "\n",
              "    .colab-df-buttons div {\n",
              "      margin-bottom: 4px;\n",
              "    }\n",
              "\n",
              "    [theme=dark] .colab-df-convert {\n",
              "      background-color: #3B4455;\n",
              "      fill: #D2E3FC;\n",
              "    }\n",
              "\n",
              "    [theme=dark] .colab-df-convert:hover {\n",
              "      background-color: #434B5C;\n",
              "      box-shadow: 0px 1px 3px 1px rgba(0, 0, 0, 0.15);\n",
              "      filter: drop-shadow(0px 1px 2px rgba(0, 0, 0, 0.3));\n",
              "      fill: #FFFFFF;\n",
              "    }\n",
              "  </style>\n",
              "\n",
              "    <script>\n",
              "      const buttonEl =\n",
              "        document.querySelector('#df-a99c8048-f80b-4b0d-a911-eadd19c340be button.colab-df-convert');\n",
              "      buttonEl.style.display =\n",
              "        google.colab.kernel.accessAllowed ? 'block' : 'none';\n",
              "\n",
              "      async function convertToInteractive(key) {\n",
              "        const element = document.querySelector('#df-a99c8048-f80b-4b0d-a911-eadd19c340be');\n",
              "        const dataTable =\n",
              "          await google.colab.kernel.invokeFunction('convertToInteractive',\n",
              "                                                    [key], {});\n",
              "        if (!dataTable) return;\n",
              "\n",
              "        const docLinkHtml = 'Like what you see? Visit the ' +\n",
              "          '<a target=\"_blank\" href=https://colab.research.google.com/notebooks/data_table.ipynb>data table notebook</a>'\n",
              "          + ' to learn more about interactive tables.';\n",
              "        element.innerHTML = '';\n",
              "        dataTable['output_type'] = 'display_data';\n",
              "        await google.colab.output.renderOutput(dataTable, element);\n",
              "        const docLink = document.createElement('div');\n",
              "        docLink.innerHTML = docLinkHtml;\n",
              "        element.appendChild(docLink);\n",
              "      }\n",
              "    </script>\n",
              "  </div>\n",
              "\n",
              "\n",
              "<div id=\"df-1b9ed5ad-bd01-41ab-b37b-e18fb29ecb26\">\n",
              "  <button class=\"colab-df-quickchart\" onclick=\"quickchart('df-1b9ed5ad-bd01-41ab-b37b-e18fb29ecb26')\"\n",
              "            title=\"Suggest charts.\"\n",
              "            style=\"display:none;\">\n",
              "\n",
              "<svg xmlns=\"http://www.w3.org/2000/svg\" height=\"24px\"viewBox=\"0 0 24 24\"\n",
              "     width=\"24px\">\n",
              "    <g>\n",
              "        <path d=\"M19 3H5c-1.1 0-2 .9-2 2v14c0 1.1.9 2 2 2h14c1.1 0 2-.9 2-2V5c0-1.1-.9-2-2-2zM9 17H7v-7h2v7zm4 0h-2V7h2v10zm4 0h-2v-4h2v4z\"/>\n",
              "    </g>\n",
              "</svg>\n",
              "  </button>\n",
              "\n",
              "<style>\n",
              "  .colab-df-quickchart {\n",
              "      --bg-color: #E8F0FE;\n",
              "      --fill-color: #1967D2;\n",
              "      --hover-bg-color: #E2EBFA;\n",
              "      --hover-fill-color: #174EA6;\n",
              "      --disabled-fill-color: #AAA;\n",
              "      --disabled-bg-color: #DDD;\n",
              "  }\n",
              "\n",
              "  [theme=dark] .colab-df-quickchart {\n",
              "      --bg-color: #3B4455;\n",
              "      --fill-color: #D2E3FC;\n",
              "      --hover-bg-color: #434B5C;\n",
              "      --hover-fill-color: #FFFFFF;\n",
              "      --disabled-bg-color: #3B4455;\n",
              "      --disabled-fill-color: #666;\n",
              "  }\n",
              "\n",
              "  .colab-df-quickchart {\n",
              "    background-color: var(--bg-color);\n",
              "    border: none;\n",
              "    border-radius: 50%;\n",
              "    cursor: pointer;\n",
              "    display: none;\n",
              "    fill: var(--fill-color);\n",
              "    height: 32px;\n",
              "    padding: 0;\n",
              "    width: 32px;\n",
              "  }\n",
              "\n",
              "  .colab-df-quickchart:hover {\n",
              "    background-color: var(--hover-bg-color);\n",
              "    box-shadow: 0 1px 2px rgba(60, 64, 67, 0.3), 0 1px 3px 1px rgba(60, 64, 67, 0.15);\n",
              "    fill: var(--button-hover-fill-color);\n",
              "  }\n",
              "\n",
              "  .colab-df-quickchart-complete:disabled,\n",
              "  .colab-df-quickchart-complete:disabled:hover {\n",
              "    background-color: var(--disabled-bg-color);\n",
              "    fill: var(--disabled-fill-color);\n",
              "    box-shadow: none;\n",
              "  }\n",
              "\n",
              "  .colab-df-spinner {\n",
              "    border: 2px solid var(--fill-color);\n",
              "    border-color: transparent;\n",
              "    border-bottom-color: var(--fill-color);\n",
              "    animation:\n",
              "      spin 1s steps(1) infinite;\n",
              "  }\n",
              "\n",
              "  @keyframes spin {\n",
              "    0% {\n",
              "      border-color: transparent;\n",
              "      border-bottom-color: var(--fill-color);\n",
              "      border-left-color: var(--fill-color);\n",
              "    }\n",
              "    20% {\n",
              "      border-color: transparent;\n",
              "      border-left-color: var(--fill-color);\n",
              "      border-top-color: var(--fill-color);\n",
              "    }\n",
              "    30% {\n",
              "      border-color: transparent;\n",
              "      border-left-color: var(--fill-color);\n",
              "      border-top-color: var(--fill-color);\n",
              "      border-right-color: var(--fill-color);\n",
              "    }\n",
              "    40% {\n",
              "      border-color: transparent;\n",
              "      border-right-color: var(--fill-color);\n",
              "      border-top-color: var(--fill-color);\n",
              "    }\n",
              "    60% {\n",
              "      border-color: transparent;\n",
              "      border-right-color: var(--fill-color);\n",
              "    }\n",
              "    80% {\n",
              "      border-color: transparent;\n",
              "      border-right-color: var(--fill-color);\n",
              "      border-bottom-color: var(--fill-color);\n",
              "    }\n",
              "    90% {\n",
              "      border-color: transparent;\n",
              "      border-bottom-color: var(--fill-color);\n",
              "    }\n",
              "  }\n",
              "</style>\n",
              "\n",
              "  <script>\n",
              "    async function quickchart(key) {\n",
              "      const quickchartButtonEl =\n",
              "        document.querySelector('#' + key + ' button');\n",
              "      quickchartButtonEl.disabled = true;  // To prevent multiple clicks.\n",
              "      quickchartButtonEl.classList.add('colab-df-spinner');\n",
              "      try {\n",
              "        const charts = await google.colab.kernel.invokeFunction(\n",
              "            'suggestCharts', [key], {});\n",
              "      } catch (error) {\n",
              "        console.error('Error during call to suggestCharts:', error);\n",
              "      }\n",
              "      quickchartButtonEl.classList.remove('colab-df-spinner');\n",
              "      quickchartButtonEl.classList.add('colab-df-quickchart-complete');\n",
              "    }\n",
              "    (() => {\n",
              "      let quickchartButtonEl =\n",
              "        document.querySelector('#df-1b9ed5ad-bd01-41ab-b37b-e18fb29ecb26 button');\n",
              "      quickchartButtonEl.style.display =\n",
              "        google.colab.kernel.accessAllowed ? 'block' : 'none';\n",
              "    })();\n",
              "  </script>\n",
              "</div>\n",
              "    </div>\n",
              "  </div>\n"
            ]
          },
          "metadata": {},
          "execution_count": 54
        }
      ]
    },
    {
      "cell_type": "markdown",
      "source": [
        "###Imputación de fatos faltantes\n",
        "\n",
        "Dado que para la presente actividad es de mayor importancia la creación del modelo y no el tratamiento de los datos, se usarán métodos simples para la imputación de datos faltantes:\n",
        "- Para las columnas categóricas se usará la moda.\n",
        "- Para las columnas numéricas se usará la media."
      ],
      "metadata": {
        "id": "lhCHZXRV-eO9"
      }
    },
    {
      "cell_type": "code",
      "source": [
        "from sklearn.impute import SimpleImputer\n",
        "\n",
        "#Para las columnas categóricas\n",
        "categorical_cols = ['Gender','Married','Dependents','Education', 'Self_Employed', 'Loan_Amount_Term', 'Credit_History', 'Property_Area']\n",
        "cualitative_imputer = SimpleImputer(strategy='most_frequent')\n",
        "for col in categorical_cols:\n",
        "  raw_data[col] = cualitative_imputer.fit_transform(raw_data[[col]])\n",
        "\n",
        "#Para las columnas numéricas\n",
        "cuantitative_cols = ['ApplicantIncome','CoapplicantIncome', 'LoanAmount']\n",
        "cuantitative_imputer = SimpleImputer(strategy='mean')\n",
        "for col in cuantitative_cols:\n",
        "  raw_data[col] = cuantitative_imputer.fit_transform(raw_data[[col]])"
      ],
      "metadata": {
        "id": "wlPNsVNlYACe"
      },
      "execution_count": null,
      "outputs": []
    },
    {
      "cell_type": "markdown",
      "source": [
        "###Codificación de columnas categóricas"
      ],
      "metadata": {
        "id": "WtJpJ86P-grn"
      }
    },
    {
      "cell_type": "code",
      "execution_count": null,
      "metadata": {
        "id": "TSuqLzp-r8up",
        "colab": {
          "base_uri": "https://localhost:8080/"
        },
        "outputId": "338543f1-3117-400b-d6aa-5ebc00b4aa34"
      },
      "outputs": [
        {
          "output_type": "stream",
          "name": "stdout",
          "text": [
            "CODIFICATION MADE BY LabelEncoder: \n",
            "\n",
            "Codification of column Gender:\n",
            "{'Female': 0, 'Male': 1}\n",
            "\n",
            "Codification of column Married:\n",
            "{'No': 0, 'Yes': 1}\n",
            "\n",
            "Codification of column Dependents:\n",
            "{'0': 0, '1': 1, '2': 2, '3+': 3}\n",
            "\n",
            "Codification of column Education:\n",
            "{'Graduate': 0, 'Not Graduate': 1}\n",
            "\n",
            "Codification of column Self_Employed:\n",
            "{'No': 0, 'Yes': 1}\n",
            "\n",
            "Codification of column Loan_Amount_Term:\n",
            "{12.0: 0, 36.0: 1, 60.0: 2, 84.0: 3, 120.0: 4, 180.0: 5, 240.0: 6, 300.0: 7, 360.0: 8, 480.0: 9}\n",
            "\n",
            "Codification of column Credit_History:\n",
            "{0.0: 0, 1.0: 1}\n",
            "\n",
            "Codification of column Property_Area:\n",
            "{'Rural': 0, 'Semiurban': 1, 'Urban': 2}\n",
            "\n",
            "Codification of column Loan_Status:\n",
            "{'N': 0, 'Y': 1}\n",
            "\n"
          ]
        }
      ],
      "source": [
        "from sklearn.preprocessing import LabelEncoder\n",
        "\n",
        "le = LabelEncoder()\n",
        "categorical_cols = ['Gender','Married','Dependents','Education', 'Self_Employed'\n",
        "  , 'Loan_Amount_Term', 'Credit_History', 'Property_Area', 'Loan_Status']\n",
        "print('CODIFICATION MADE BY LabelEncoder: \\n')\n",
        "for col in categorical_cols:\n",
        "  raw_data[col] = le.fit_transform(raw_data[col])\n",
        "  raw_data[col] = raw_data[col]\n",
        "  label_mapping = dict(zip(le.classes_, le.transform(le.classes_)))\n",
        "  print('Codification of column ' + col + ':\\n' + str(label_mapping) +'\\n')\n",
        "\n",
        "\n",
        "'''\n",
        "Usando LabelEncoder casi todas las columnas bien codificadas, a exepción de \"Education\",\n",
        "en donde lo ideal es que \"Not Graduated\" : 0 y \"Graduated\": 1, por lo tanto ahora se hace\n",
        "el cambio manualmente.\n",
        "'''\n",
        "\n",
        "raw_data['Education'] = raw_data['Education'].replace({0: 1, 1: 0})"
      ]
    },
    {
      "cell_type": "markdown",
      "source": [
        "Al finalizar con el tratamiento de los datos obtenemos una base de datos con las siguientes columnas\n",
        "\n",
        "| **Index** | **Nombre** | **Tipo de Dato** |Tipo de Variable| **Valores** |\n",
        "|-----------|------------|-------------------|-|-------------|\n",
        "| 0         | Gender   | int |Discreta| **0**: 'Female' , **1**: 'Male'   |\n",
        "| 1         | Married   | int  |Discreta| **0**: 'No', **1**:'Yes' |\n",
        "| 2         | Dependents   | int   |Discreta| **0**: '0', **1**: '1', **2**: '2', **3**: '3+' |\n",
        "| 3         | Education   | int    |Discreta| **0**: 'Not Graduated', **1**: 'Graduated'  |\n",
        "| 4         | Self_Employed   | int   |Continua|  ℝ ≥ 0 |\n",
        "| 5         | ApplicantIncome   | int   |Continua| ℝ ≥ 0 |\n",
        "| 6         | CoapplicantIncome   | int |Continua| ℝ ≥ 0 |\n",
        "| 7         | LoanAmount   | int  |Continua| ℝ ≥ 0 |\n",
        "| 8         | Loan_Amount_Term   | int   |Discreta| **0**: 12, **1**: 36, **2**: 60, **3**: 84, **4**: 120, **5**: 180, **6**: 240, **7**: 300, **8**: 360, **9**: 480 |\n",
        "| 9         | Credit_History   | int   |Discreta| **0**: 0, **1**: 1 |\n",
        "| 10         | Property_Area   | int |Discreta|**0**: 'Rural', **1**: 'Semiurban', **2**: 'Urban' |\n",
        "| 11        | Loan_Status   | int |Discreta| **0**: 'N', **Y**: 1 |\n",
        "\n",
        "> _**Nota**: En la columna de valores se encuentran en negrilla los valores en la base de datos después de codificar, a la derecha se encuentras los valores correspondientes con la base de datos original_\n",
        "\n",
        "\n",
        "\n",
        "La base de datos ahora no tiene ningún dato faltante, ahora los datos están listos para ser usados.\n",
        "\n",
        "\n",
        "\n"
      ],
      "metadata": {
        "id": "Us1wB5Nvu9Vn"
      }
    },
    {
      "cell_type": "code",
      "source": [
        "#Guardar los datos limpios para no tener que pasar por el mismo una vez más\n",
        "pathDavid = '/content/drive/MyDrive/Modelos II/Proyecto final/data/' #Aquí se coloca el path donde se quiere guardar la base de datos\n",
        "raw_data.to_csv(pathDavid + 'data.csv', index=False);"
      ],
      "metadata": {
        "id": "A0iz5l6i3mb4"
      },
      "execution_count": null,
      "outputs": []
    },
    {
      "cell_type": "markdown",
      "source": [
        "##Implementación de modelos de Machine Learning\n",
        "###Importación de los datos limpios\n",
        "\n",
        "En el caso en que ya haya guardado los datos"
      ],
      "metadata": {
        "id": "V9aWb1Vf20WN"
      }
    },
    {
      "cell_type": "markdown",
      "source": [
        "###Gradient Boosting Classifier"
      ],
      "metadata": {
        "id": "3XYH4C0G24tV"
      }
    },
    {
      "cell_type": "code",
      "source": [
        "import pandas as pd\n",
        "from sklearn.ensemble import GradientBoostingClassifier\n",
        "from sklearn.model_selection import train_test_split, GridSearchCV, KFold\n",
        "from sklearn.metrics import accuracy_score\n",
        "\n",
        "# Cargamos los datos desde el archivo data.csv\n",
        "data = pd.read_csv('/content/data.csv') # <== modificar por path bla bla bla\n",
        "\n",
        "# Separar las características X y la variable objetivo y\n",
        "X = data.iloc[:, :-1]  # Todas las columnas excepto la última\n",
        "y = data.iloc[:, -1]   # Última columna\n",
        "\n",
        "# Dividir los datos en conjuntos de entrenamiento y prueba como 80% / 20%, ya que tenemos poquitos datos\n",
        "X_train, X_test, y_train, y_test = train_test_split(X, y, test_size=0.2, random_state=42, shuffle=True)\n",
        "\n",
        "# Definir los hiperparámetros para probar\n",
        "param_grid = {\n",
        "    'n_estimators': [50, 100, 150],       # número de árboles en el ensamble, números altos pueden sobreajustar\n",
        "    'learning_rate': [0.1, 0.01, 0.001],  # contribución de cada árbol al modelo, valores pequeños = más tiempo y necesita más árboles\n",
        "    'max_depth': [3, 4, 5],               # profundidad máxima de cada árbol de decisión\n",
        "    'min_samples_split': [2, 5, 10],      # número mínimo de muestras para dividir un nodo interno\n",
        "    'min_samples_leaf': [1, 2, 4],        # número mínimo de muestras requeridas para ser una hoja\n",
        "    'max_features': ['sqrt', 'log2'],     # número máximo de características a considerar para la mejor división en cada nodo\n",
        "    'subsample': [0.8, 0.9, 1.0]          # fracción de muestras que se utiliza para ajustar el estimador base\n",
        "}\n",
        "\n",
        "# Inicializamos el modelo\n",
        "model = GradientBoostingClassifier()\n",
        "\n",
        "# Definimos la estrategia de validación cruzada con KFold\n",
        "kf = KFold(n_splits=5)  # Establecemos el valor en 5, por defecto tomaría 3\n",
        "\n",
        "# Realizamos la búsqueda de hiperparámetros con validación cruzada\n",
        "grid_search = GridSearchCV(model, param_grid, cv=kf, scoring='accuracy')\n",
        "grid_search.fit(X_train, y_train)\n",
        "\n",
        "# Obtenemos el mejor modelo y hacemos predicciones en el conjunto de prueba\n",
        "best_model = grid_search.best_estimator_\n",
        "predictions = best_model.predict(X_test)\n",
        "\n",
        "accuracy = accuracy_score(y_test, predictions)\n",
        "print(\"Precisión del mejor modelo en el conjunto de prueba: {:.2f}\".format(accuracy))"
      ],
      "metadata": {
        "colab": {
          "base_uri": "https://localhost:8080/"
        },
        "id": "uyCWPmIsN1bF",
        "outputId": "2a42b191-1942-4f17-9e2a-77bd6273283d"
      },
      "execution_count": null,
      "outputs": [
        {
          "output_type": "stream",
          "name": "stdout",
          "text": [
            "Mejor precisión del modelo en el conjunto de prueba: 0.78\n"
          ]
        }
      ]
    },
    {
      "cell_type": "markdown",
      "source": [
        "A continuación se muestra una tabla que lista los modelos comparados por el gridSearch, los ordena según el mean_test_score de forma descendente y así demuestra cómo eligió los hiperparámetros que generan el mejor modelo."
      ],
      "metadata": {
        "id": "46fg5rIi0ngB"
      }
    },
    {
      "cell_type": "code",
      "source": [
        "results = pd.DataFrame(grid_search.cv_results_)\n",
        "\n",
        "# Seleccionar algunos hiperparámetros relevantes para comparar\n",
        "relevant_columns = ['param_n_estimators', 'param_learning_rate', 'param_max_depth', 'mean_test_score']\n",
        "\n",
        "# Filtrar el DataFrame para obtener solo algunas columnas relevantes y comparar\n",
        "results_filtered = results[relevant_columns]\n",
        "\n",
        "# Mostrar los mejores resultados ordenados por la media de la puntuación de prueba\n",
        "best_results = results_filtered.sort_values(by='mean_test_score', ascending=False)\n",
        "\n",
        "# Imprimir la tabla de resultados ordenada por la puntuación de prueba media\n",
        "print(best_results.head(10))"
      ],
      "metadata": {
        "colab": {
          "base_uri": "https://localhost:8080/"
        },
        "id": "hb4n3_yGTo0B",
        "outputId": "2da517e6-2a58-4904-840b-1fe2aadc1900"
      },
      "execution_count": null,
      "outputs": [
        {
          "output_type": "stream",
          "name": "stdout",
          "text": [
            "    param_n_estimators param_learning_rate param_max_depth  mean_test_score\n",
            "227                 50                 0.1               4         0.816636\n",
            "633                100                0.01               3         0.814677\n",
            "787                100                0.01               4         0.812637\n",
            "726                150                0.01               4         0.812637\n",
            "724                100                0.01               4         0.812637\n",
            "723                100                0.01               4         0.812637\n",
            "714                100                0.01               4         0.812637\n",
            "642                100                0.01               3         0.812637\n",
            "635                100                0.01               3         0.812637\n",
            "807                150                0.01               4         0.812637\n"
          ]
        }
      ]
    },
    {
      "cell_type": "code",
      "source": [
        "# Obtener los hiperparámetros del mejor modelo\n",
        "best_hyperparameters = grid_search.best_params_\n",
        "print(\"Mejores hiperparámetros:\", best_hyperparameters)"
      ],
      "metadata": {
        "colab": {
          "base_uri": "https://localhost:8080/"
        },
        "id": "1pRLgLt6UTPR",
        "outputId": "15b7695b-1d8c-48e5-f936-9bc1f3375263"
      },
      "execution_count": null,
      "outputs": [
        {
          "output_type": "stream",
          "name": "stdout",
          "text": [
            "Mejores hiperparámetros: {'learning_rate': 0.1, 'max_depth': 4, 'max_features': 'sqrt', 'min_samples_leaf': 4, 'min_samples_split': 5, 'n_estimators': 50, 'subsample': 1.0}\n"
          ]
        }
      ]
    },
    {
      "cell_type": "markdown",
      "source": [
        "A continuación veremos qué tanto afecta cada variable sobre el resultado, si se fijan, al parecer lo más importante es el historial crediticio, por una gran gran diferencia."
      ],
      "metadata": {
        "id": "Kex5U60H25Tt"
      }
    },
    {
      "cell_type": "code",
      "source": [
        "# Obtener la importancia de las características\n",
        "feature_importance = best_model.feature_importances_\n",
        "\n",
        "# Asociar las importancias con los nombres de las características (si es aplicable)\n",
        "feature_names = X.columns  # Reemplaza con tus nombres de columnas si tienes\n",
        "feature_importance_df = pd.DataFrame({'Feature': feature_names, 'Importance': feature_importance})\n",
        "feature_importance_df = feature_importance_df.sort_values(by='Importance', ascending=False)\n",
        "print(feature_importance_df)"
      ],
      "metadata": {
        "colab": {
          "base_uri": "https://localhost:8080/"
        },
        "id": "b5oKbk4cUxvg",
        "outputId": "a017a288-c03a-4b46-9141-bf12d13b13bc"
      },
      "execution_count": null,
      "outputs": [
        {
          "output_type": "stream",
          "name": "stdout",
          "text": [
            "              Feature  Importance\n",
            "9      Credit_History    0.496702\n",
            "7          LoanAmount    0.142526\n",
            "5     ApplicantIncome    0.091764\n",
            "6   CoapplicantIncome    0.084622\n",
            "10      Property_Area    0.056425\n",
            "8    Loan_Amount_Term    0.055101\n",
            "1             Married    0.021969\n",
            "2          Dependents    0.021711\n",
            "3           Education    0.012647\n",
            "0              Gender    0.010772\n",
            "4       Self_Employed    0.005762\n"
          ]
        }
      ]
    },
    {
      "cell_type": "markdown",
      "source": [
        "Veamos qué tan bien funciona nuestro modelo, usando la métrica del accuracy y una matriz de confusión|"
      ],
      "metadata": {
        "id": "AKe4vUEZ3Ln_"
      }
    },
    {
      "cell_type": "code",
      "source": [
        "# Calcular la precisión en los conjuntos de entrenamiento y prueba\n",
        "train_accuracy = best_model.score(X_train, y_train)\n",
        "test_accuracy = best_model.score(X_test, y_test)\n",
        "\n",
        "# Imprimir las precisiones en dos líneas consecutivas\n",
        "print(\"Accuracy en conjunto de entrenamiento:\", train_accuracy)\n",
        "print(\"Accuracy en conjunto de prueba      :\", test_accuracy)"
      ],
      "metadata": {
        "colab": {
          "base_uri": "https://localhost:8080/"
        },
        "id": "aOqAj8YjoTnj",
        "outputId": "15f2c649-ae63-4e07-a8b0-ebb78fca308c"
      },
      "execution_count": null,
      "outputs": [
        {
          "output_type": "stream",
          "name": "stdout",
          "text": [
            "Accuracy en conjunto de entrenamiento: 0.8655804480651731\n",
            "Accuracy en conjunto de prueba      : 0.7804878048780488\n"
          ]
        }
      ]
    },
    {
      "cell_type": "code",
      "source": [
        "from sklearn.metrics import confusion_matrix\n",
        "import seaborn as sns\n",
        "import matplotlib.pyplot as plt\n",
        "\n",
        "# Suponiendo que ya tienes best_model entrenado con los mejores hiperparámetros y X_test, y_test están definidos\n",
        "\n",
        "# Realizar predicciones en el conjunto de prueba\n",
        "y_pred = best_model.predict(X_test)\n",
        "\n",
        "# Crear la matriz de confusión\n",
        "conf_matrix = confusion_matrix(y_test, y_pred)\n",
        "\n",
        "# Visualizar la matriz de confusión usando Seaborn\n",
        "plt.figure(figsize=(4, 3))\n",
        "sns.heatmap(conf_matrix, annot=True, fmt='d', cmap='Blues', cbar=False)\n",
        "plt.xlabel('Predicción')\n",
        "plt.ylabel('Valor Real')\n",
        "plt.title('Matriz de Confusión')\n",
        "plt.show()"
      ],
      "metadata": {
        "id": "_SagJBuqWWBK",
        "colab": {
          "base_uri": "https://localhost:8080/",
          "height": 333
        },
        "outputId": "c2fe68f3-6932-4561-d06a-61a34a0e73ae"
      },
      "execution_count": null,
      "outputs": [
        {
          "output_type": "display_data",
          "data": {
            "text/plain": [
              "<Figure size 400x300 with 1 Axes>"
            ],
            "image/png": "[encoded data removed]"
          },
          "metadata": {}
        }
      ]
    },
    {
      "cell_type": "markdown",
      "source": [
        "Podemos apreciar que hay muchos falsos positivos, esto indica que hay un problema al momento de clasificar los datos que pertenecen a la categoría 0, o las personas a las que le niegan el prestamo. Inferimos que esto se debe al desbalanceo de clases que existe en los datos de entrenamiento, así que haremos un sobremuestreo y posteriormente volveremos a entrenar el modelo"
      ],
      "metadata": {
        "id": "dhHNqjel3suZ"
      }
    },
    {
      "cell_type": "code",
      "source": [
        "from imblearn.over_sampling import RandomOverSampler\n",
        "\n",
        "# Realiza la verificación del balance actual\n",
        "class_distribution_before = pd.Series(y).value_counts()\n",
        "print(\"Distribución de clases antes del sobremuestreo:\")\n",
        "print(class_distribution_before)\n",
        "\n",
        "# Aplica sobremuestreo para equilibrar las clases\n",
        "oversample = RandomOverSampler(random_state=42)\n",
        "X_over, y_over = oversample.fit_resample(X, y)\n",
        "\n",
        "# Verifica la distribución de clases después del sobremuestreo\n",
        "class_distribution_after = pd.Series(y_over).value_counts()\n",
        "print(\"\\nDistribución de clases después del sobremuestreo:\")\n",
        "print(class_distribution_after)"
      ],
      "metadata": {
        "colab": {
          "base_uri": "https://localhost:8080/"
        },
        "id": "scxZvYuDtJpQ",
        "outputId": "8a583dcb-0cea-43b4-d8b9-1a5a062bf47e"
      },
      "execution_count": null,
      "outputs": [
        {
          "output_type": "stream",
          "name": "stdout",
          "text": [
            "Distribución de clases antes del sobremuestreo:\n",
            "1    422\n",
            "0    192\n",
            "Name: Loan_Status, dtype: int64\n",
            "\n",
            "Distribución de clases después del sobremuestreo:\n",
            "1    422\n",
            "0    422\n",
            "Name: Loan_Status, dtype: int64\n"
          ]
        }
      ]
    },
    {
      "cell_type": "code",
      "source": [
        "# Dividir los datos en conjuntos de entrenamiento y prueba\n",
        "X_over_train, X_over_test, y_over_train, y_over_test = train_test_split(X_over, y_over, test_size=0.2, random_state=42)\n",
        "\n",
        "param_grid_over = {\n",
        "    'n_estimators': [50, ], #Le quité los otros (100 y 150) pa que no se demore tanto :/, además de que los mejores resultados en el anterior eran con 50\n",
        "    'learning_rate': [0.1, 0.01, 0.001],\n",
        "    'max_depth': [3, 4, 5],\n",
        "    'min_samples_split': [2, 5, 10],\n",
        "    'min_samples_leaf': [1, 2, 4],\n",
        "    'max_features': ['sqrt', 'log2'],\n",
        "    'subsample': [0.8, 0.9, 1.0]\n",
        "}\n",
        "\n",
        "# Inicializar el modelo Gradient Boosting Classifier\n",
        "model_over = GradientBoostingClassifier()\n",
        "\n",
        "# Realizar la búsqueda de hiperparámetros con validación cruzada\n",
        "grid_search_over = GridSearchCV(model_over, param_grid_over, cv=5, scoring='accuracy')\n",
        "grid_search_over.fit(X_over_train, y_over_train)\n",
        "\n",
        "# Obtener el mejor modelo y hacer predicciones en el conjunto de prueba\n",
        "best_model_over = grid_search_over.best_estimator_\n",
        "predictions_over = best_model_over.predict(X_over_test)\n",
        "\n",
        "# Calcular la precisión del mejor modelo en el conjunto de prueba\n",
        "accuracy = accuracy_score(y_over_test, predictions_over)\n",
        "print(\"Mejor precisión del modelo en el conjunto de prueba: {:.2f}\".format(accuracy))"
      ],
      "metadata": {
        "colab": {
          "base_uri": "https://localhost:8080/"
        },
        "id": "3N43CY8wta-w",
        "outputId": "a486ee12-39df-42ee-fc56-b3713c3ce701"
      },
      "execution_count": null,
      "outputs": [
        {
          "output_type": "stream",
          "name": "stdout",
          "text": [
            "Mejor precisión del modelo en el conjunto de prueba: 0.85\n"
          ]
        }
      ]
    },
    {
      "cell_type": "code",
      "source": [
        "# Calcular la precisión en los conjuntos de entrenamiento y prueba\n",
        "train_accuracy_over = best_model_over.score(X_over_train, y_over_train)\n",
        "test_accuracy_over = best_model_over.score(X_over_test, y_over_test)\n",
        "\n",
        "# Imprimir las precisiones en dos líneas consecutivas\n",
        "print(\"Accuracy en conjunto de entrenamiento:\", train_accuracy_over)\n",
        "print(\"Accuracy en conjunto de prueba      :\", test_accuracy_over)"
      ],
      "metadata": {
        "colab": {
          "base_uri": "https://localhost:8080/"
        },
        "id": "1qJQc7cUvozh",
        "outputId": "50a7fe04-a543-455a-9587-a069bcf9818d"
      },
      "execution_count": null,
      "outputs": [
        {
          "output_type": "stream",
          "name": "stdout",
          "text": [
            "Accuracy en conjunto de entrenamiento: 0.9333333333333333\n",
            "Accuracy en conjunto de prueba      : 0.8520710059171598\n"
          ]
        }
      ]
    },
    {
      "cell_type": "code",
      "source": [
        "# Obtiene las predicciones y las matrices de confusión\n",
        "y_pred_normal = best_model.predict(X_test)\n",
        "y_pred_over = best_model_over.predict(X_over_test)\n",
        "\n",
        "conf_matrix_normal = confusion_matrix(y_test, y_pred_normal)\n",
        "conf_matrix_over = confusion_matrix(y_over_test, y_pred_over)\n",
        "\n",
        "# Grafica las matrices de confusión\n",
        "plt.figure(figsize=(8, 4))\n",
        "\n",
        "plt.subplot(1, 2, 1)\n",
        "sns.heatmap(conf_matrix_normal, annot=True, fmt='d', cmap='Blues', cbar=False)\n",
        "plt.title('Matriz de Confusión - Datos Desbalanceados')\n",
        "plt.xlabel('Predicción')\n",
        "plt.ylabel('Valor Real')\n",
        "\n",
        "plt.subplot(1, 2, 2)\n",
        "sns.heatmap(conf_matrix_over, annot=True, fmt='d', cmap='Blues', cbar=False)\n",
        "plt.title('Matriz de Confusión - Datos Balanceados')\n",
        "plt.xlabel('Predicción')\n",
        "plt.ylabel('Valor Real')\n",
        "\n",
        "plt.tight_layout()\n",
        "plt.show()"
      ],
      "metadata": {
        "colab": {
          "base_uri": "https://localhost:8080/",
          "height": 407
        },
        "id": "1Hdawu86OtyJ",
        "outputId": "51216556-1f4b-49d9-b8d7-f9b18ba84cca"
      },
      "execution_count": null,
      "outputs": [
        {
          "output_type": "display_data",
          "data": {
            "text/plain": [
              "<Figure size 800x400 with 2 Axes>"
            ],
            "image/png": "[encoded data removed]"
          },
          "metadata": {}
        }
      ]
    },
    {
      "cell_type": "code",
      "source": [
        "from sklearn.metrics import f1_score, precision_score, recall_score, roc_auc_score, average_precision_score\n",
        "\n",
        "# Calcular F1-score, precisión y exhaustividad en los datos desbalanceados\n",
        "f1_normal = f1_score(y_test, best_model.predict(X_test))\n",
        "precision_normal = precision_score(y_test, best_model.predict(X_test))\n",
        "recall_normal = recall_score(y_test, best_model.predict(X_test))\n",
        "roc_auc_normal = roc_auc_score(y_test, best_model.predict(X_test))\n",
        "average_precision_normal = average_precision_score(y_test, best_model.predict(X_test))\n",
        "\n",
        "# Calcular las mismas métricas en los datos balanceados\n",
        "f1_over = f1_score(y_over_test, best_model_over.predict(X_over_test))\n",
        "precision_over = precision_score(y_over_test, best_model_over.predict(X_over_test))\n",
        "recall_over = recall_score(y_over_test, best_model_over.predict(X_over_test))\n",
        "roc_auc_over = roc_auc_score(y_over_test, best_model_over.predict(X_over_test))\n",
        "average_precision_over = average_precision_score(y_over_test, best_model_over.predict(X_over_test))\n",
        "\n",
        "# Imprimir métricas\n",
        "print(\"Métricas en datos desbalanceados:\")\n",
        "print(\"F1-score:\", f1_normal)\n",
        "print(\"Precisión:\", precision_normal)\n",
        "print(\"Exhaustividad:\", recall_normal)\n",
        "print(\"ROC AUC:\", roc_auc_normal)\n",
        "print(\"Average Precision:\", average_precision_normal)\n",
        "\n",
        "print(\"\\nMétricas en datos balanceados:\")\n",
        "print(\"F1-score:\", f1_over)\n",
        "print(\"Precisión:\", precision_over)\n",
        "print(\"Exhaustividad:\", recall_over)\n",
        "print(\"ROC AUC:\", roc_auc_over)\n",
        "print(\"Average Precision:\", average_precision_over)"
      ],
      "metadata": {
        "colab": {
          "base_uri": "https://localhost:8080/"
        },
        "id": "rPCSreDhPx7F",
        "outputId": "674d056e-866e-4add-ee94-f23942f71694"
      },
      "execution_count": null,
      "outputs": [
        {
          "output_type": "stream",
          "name": "stdout",
          "text": [
            "Métricas en datos desbalanceados:\n",
            "F1-score: 0.8524590163934427\n",
            "Precisión: 0.7572815533980582\n",
            "Exhaustividad: 0.975\n",
            "ROC AUC: 0.6968023255813953\n",
            "Average Precision: 0.7546096771647328\n",
            "\n",
            "Métricas en datos balanceados:\n",
            "F1-score: 0.8484848484848485\n",
            "Precisión: 0.7777777777777778\n",
            "Exhaustividad: 0.9333333333333333\n",
            "ROC AUC: 0.8602836879432625\n",
            "Average Precision: 0.7555117247424941\n"
          ]
        }
      ]
    },
    {
      "cell_type": "code",
      "source": [
        "feature_importance_normal = best_model.feature_importances_\n",
        "feature_importance_over = best_model_over.feature_importances_\n",
        "\n",
        "# Imprimir la importancia de características\n",
        "print(\"Importancia de características en datos desbalanceados:\")\n",
        "print(dict(zip(X.columns, feature_importance_normal)))\n",
        "\n",
        "print(\"\\nImportancia de características en datos balanceados:\")\n",
        "print(dict(zip(X.columns, feature_importance_over)))"
      ],
      "metadata": {
        "colab": {
          "base_uri": "https://localhost:8080/"
        },
        "id": "ejzFaysFQBml",
        "outputId": "6bdfcd4d-f533-4604-a34d-086aa81e4b0b"
      },
      "execution_count": null,
      "outputs": [
        {
          "output_type": "stream",
          "name": "stdout",
          "text": [
            "Importancia de características en datos desbalanceados:\n",
            "{'Gender': 0.010772499429866975, 'Married': 0.021968748379037572, 'Dependents': 0.021710649657660536, 'Education': 0.012647351311769268, 'Self_Employed': 0.005761504787885487, 'ApplicantIncome': 0.09176367103185519, 'CoapplicantIncome': 0.08462157824175415, 'LoanAmount': 0.142526014610178, 'Loan_Amount_Term': 0.05510110428795689, 'Credit_History': 0.4967021226147542, 'Property_Area': 0.05642475564728182}\n",
            "\n",
            "Importancia de características en datos balanceados:\n",
            "{'Gender': 0.012874637444885628, 'Married': 0.032017035065320436, 'Dependents': 0.030645641805770733, 'Education': 0.022067124039935798, 'Self_Employed': 0.007318975425254616, 'ApplicantIncome': 0.1631806198857434, 'CoapplicantIncome': 0.12828569703019965, 'LoanAmount': 0.147787042356521, 'Loan_Amount_Term': 0.0401968692129922, 'Credit_History': 0.35688980271806775, 'Property_Area': 0.05873655501530875}\n"
          ]
        }
      ]
    },
    {
      "cell_type": "markdown",
      "source": [
        "###RNA"
      ],
      "metadata": {
        "id": "vUz0sqiD27qV"
      }
    },
    {
      "cell_type": "markdown",
      "source": [
        "####Inicialización"
      ],
      "metadata": {
        "id": "i1mPd4wyGrbT"
      }
    },
    {
      "cell_type": "code",
      "source": [
        "#Importación de librerías\n",
        "import matplotlib.pyplot as plt\n",
        "from sklearn.neural_network import MLPClassifier\n",
        "from sklearn.model_selection import GridSearchCV\n",
        "import pandas as pd"
      ],
      "metadata": {
        "id": "4Q3cvmizGoVh"
      },
      "execution_count": null,
      "outputs": []
    },
    {
      "cell_type": "code",
      "execution_count": null,
      "metadata": {
        "colab": {
          "base_uri": "https://localhost:8080/"
        },
        "id": "s_GETsgUZVk_",
        "outputId": "680d212b-b93b-4d06-c46e-76dceb309890"
      },
      "outputs": [
        {
          "output_type": "stream",
          "name": "stdout",
          "text": [
            "Mounted at /content/drive\n"
          ]
        }
      ],
      "source": [
        "#Conectar Drive\n",
        "from google.colab import drive\n",
        "drive.mount('/content/drive')"
      ]
    },
    {
      "cell_type": "code",
      "source": [
        "#Importar la data\n",
        "\n",
        "path = '/content/drive/MyDrive/Modelos II/Proyecto final/data/' #Change this path for your own path\n",
        "data = pd.read_csv(path + 'data.csv')\n",
        "data.head(5)"
      ],
      "metadata": {
        "colab": {
          "base_uri": "https://localhost:8080/",
          "height": 206
        },
        "id": "58nKSrSZayfg",
        "outputId": "270f6911-7cbf-4c83-a034-2b0c4d676761"
      },
      "execution_count": null,
      "outputs": [
        {
          "output_type": "execute_result",
          "data": {
            "text/plain": [
              "   Gender  Married  Dependents  Education  Self_Employed  ApplicantIncome  \\\n",
              "0       1        0           0          1              0           5849.0   \n",
              "1       1        1           1          1              0           4583.0   \n",
              "2       1        1           0          1              1           3000.0   \n",
              "3       1        1           0          0              0           2583.0   \n",
              "4       1        0           0          1              0           6000.0   \n",
              "\n",
              "   CoapplicantIncome  LoanAmount  Loan_Amount_Term  Credit_History  \\\n",
              "0                0.0  146.412162                 8               1   \n",
              "1             1508.0  128.000000                 8               1   \n",
              "2                0.0   66.000000                 8               1   \n",
              "3             2358.0  120.000000                 8               1   \n",
              "4                0.0  141.000000                 8               1   \n",
              "\n",
              "   Property_Area  Loan_Status  \n",
              "0              2            1  \n",
              "1              0            0  \n",
              "2              2            1  \n",
              "3              2            1  \n",
              "4              2            1  "
            ],
            "text/html": [
              "\n",
              "  <div id=\"df-f3a7e9cd-4c06-49c1-9cbc-fa7081384bd1\" class=\"colab-df-container\">\n",
              "    <div>\n",
              "<style scoped>\n",
              "    .dataframe tbody tr th:only-of-type {\n",
              "        vertical-align: middle;\n",
              "    }\n",
              "\n",
              "    .dataframe tbody tr th {\n",
              "        vertical-align: top;\n",
              "    }\n",
              "\n",
              "    .dataframe thead th {\n",
              "        text-align: right;\n",
              "    }\n",
              "</style>\n",
              "<table border=\"1\" class=\"dataframe\">\n",
              "  <thead>\n",
              "    <tr style=\"text-align: right;\">\n",
              "      <th></th>\n",
              "      <th>Gender</th>\n",
              "      <th>Married</th>\n",
              "      <th>Dependents</th>\n",
              "      <th>Education</th>\n",
              "      <th>Self_Employed</th>\n",
              "      <th>ApplicantIncome</th>\n",
              "      <th>CoapplicantIncome</th>\n",
              "      <th>LoanAmount</th>\n",
              "      <th>Loan_Amount_Term</th>\n",
              "      <th>Credit_History</th>\n",
              "      <th>Property_Area</th>\n",
              "      <th>Loan_Status</th>\n",
              "    </tr>\n",
              "  </thead>\n",
              "  <tbody>\n",
              "    <tr>\n",
              "      <th>0</th>\n",
              "      <td>1</td>\n",
              "      <td>0</td>\n",
              "      <td>0</td>\n",
              "      <td>1</td>\n",
              "      <td>0</td>\n",
              "      <td>5849.0</td>\n",
              "      <td>0.0</td>\n",
              "      <td>146.412162</td>\n",
              "      <td>8</td>\n",
              "      <td>1</td>\n",
              "      <td>2</td>\n",
              "      <td>1</td>\n",
              "    </tr>\n",
              "    <tr>\n",
              "      <th>1</th>\n",
              "      <td>1</td>\n",
              "      <td>1</td>\n",
              "      <td>1</td>\n",
              "      <td>1</td>\n",
              "      <td>0</td>\n",
              "      <td>4583.0</td>\n",
              "      <td>1508.0</td>\n",
              "      <td>128.000000</td>\n",
              "      <td>8</td>\n",
              "      <td>1</td>\n",
              "      <td>0</td>\n",
              "      <td>0</td>\n",
              "    </tr>\n",
              "    <tr>\n",
              "      <th>2</th>\n",
              "      <td>1</td>\n",
              "      <td>1</td>\n",
              "      <td>0</td>\n",
              "      <td>1</td>\n",
              "      <td>1</td>\n",
              "      <td>3000.0</td>\n",
              "      <td>0.0</td>\n",
              "      <td>66.000000</td>\n",
              "      <td>8</td>\n",
              "      <td>1</td>\n",
              "      <td>2</td>\n",
              "      <td>1</td>\n",
              "    </tr>\n",
              "    <tr>\n",
              "      <th>3</th>\n",
              "      <td>1</td>\n",
              "      <td>1</td>\n",
              "      <td>0</td>\n",
              "      <td>0</td>\n",
              "      <td>0</td>\n",
              "      <td>2583.0</td>\n",
              "      <td>2358.0</td>\n",
              "      <td>120.000000</td>\n",
              "      <td>8</td>\n",
              "      <td>1</td>\n",
              "      <td>2</td>\n",
              "      <td>1</td>\n",
              "    </tr>\n",
              "    <tr>\n",
              "      <th>4</th>\n",
              "      <td>1</td>\n",
              "      <td>0</td>\n",
              "      <td>0</td>\n",
              "      <td>1</td>\n",
              "      <td>0</td>\n",
              "      <td>6000.0</td>\n",
              "      <td>0.0</td>\n",
              "      <td>141.000000</td>\n",
              "      <td>8</td>\n",
              "      <td>1</td>\n",
              "      <td>2</td>\n",
              "      <td>1</td>\n",
              "    </tr>\n",
              "  </tbody>\n",
              "</table>\n",
              "</div>\n",
              "    <div class=\"colab-df-buttons\">\n",
              "\n",
              "  <div class=\"colab-df-container\">\n",
              "    <button class=\"colab-df-convert\" onclick=\"convertToInteractive('df-f3a7e9cd-4c06-49c1-9cbc-fa7081384bd1')\"\n",
              "            title=\"Convert this dataframe to an interactive table.\"\n",
              "            style=\"display:none;\">\n",
              "\n",
              "  <svg xmlns=\"http://www.w3.org/2000/svg\" height=\"24px\" viewBox=\"0 -960 960 960\">\n",
              "    <path d=\"M120-120v-720h720v720H120Zm60-500h600v-160H180v160Zm220 220h160v-160H400v160Zm0 220h160v-160H400v160ZM180-400h160v-160H180v160Zm440 0h160v-160H620v160ZM180-180h160v-160H180v160Zm440 0h160v-160H620v160Z\"/>\n",
              "  </svg>\n",
              "    </button>\n",
              "\n",
              "  <style>\n",
              "    .colab-df-container {\n",
              "      display:flex;\n",
              "      gap: 12px;\n",
              "    }\n",
              "\n",
              "    .colab-df-convert {\n",
              "      background-color: #E8F0FE;\n",
              "      border: none;\n",
              "      border-radius: 50%;\n",
              "      cursor: pointer;\n",
              "      display: none;\n",
              "      fill: #1967D2;\n",
              "      height: 32px;\n",
              "      padding: 0 0 0 0;\n",
              "      width: 32px;\n",
              "    }\n",
              "\n",
              "    .colab-df-convert:hover {\n",
              "      background-color: #E2EBFA;\n",
              "      box-shadow: 0px 1px 2px rgba(60, 64, 67, 0.3), 0px 1px 3px 1px rgba(60, 64, 67, 0.15);\n",
              "      fill: #174EA6;\n",
              "    }\n",
              "\n",
              "    .colab-df-buttons div {\n",
              "      margin-bottom: 4px;\n",
              "    }\n",
              "\n",
              "    [theme=dark] .colab-df-convert {\n",
              "      background-color: #3B4455;\n",
              "      fill: #D2E3FC;\n",
              "    }\n",
              "\n",
              "    [theme=dark] .colab-df-convert:hover {\n",
              "      background-color: #434B5C;\n",
              "      box-shadow: 0px 1px 3px 1px rgba(0, 0, 0, 0.15);\n",
              "      filter: drop-shadow(0px 1px 2px rgba(0, 0, 0, 0.3));\n",
              "      fill: #FFFFFF;\n",
              "    }\n",
              "  </style>\n",
              "\n",
              "    <script>\n",
              "      const buttonEl =\n",
              "        document.querySelector('#df-f3a7e9cd-4c06-49c1-9cbc-fa7081384bd1 button.colab-df-convert');\n",
              "      buttonEl.style.display =\n",
              "        google.colab.kernel.accessAllowed ? 'block' : 'none';\n",
              "\n",
              "      async function convertToInteractive(key) {\n",
              "        const element = document.querySelector('#df-f3a7e9cd-4c06-49c1-9cbc-fa7081384bd1');\n",
              "        const dataTable =\n",
              "          await google.colab.kernel.invokeFunction('convertToInteractive',\n",
              "                                                    [key], {});\n",
              "        if (!dataTable) return;\n",
              "\n",
              "        const docLinkHtml = 'Like what you see? Visit the ' +\n",
              "          '<a target=\"_blank\" href=https://colab.research.google.com/notebooks/data_table.ipynb>data table notebook</a>'\n",
              "          + ' to learn more about interactive tables.';\n",
              "        element.innerHTML = '';\n",
              "        dataTable['output_type'] = 'display_data';\n",
              "        await google.colab.output.renderOutput(dataTable, element);\n",
              "        const docLink = document.createElement('div');\n",
              "        docLink.innerHTML = docLinkHtml;\n",
              "        element.appendChild(docLink);\n",
              "      }\n",
              "    </script>\n",
              "  </div>\n",
              "\n",
              "\n",
              "<div id=\"df-07120a42-ce90-4901-b45b-1f38bf548258\">\n",
              "  <button class=\"colab-df-quickchart\" onclick=\"quickchart('df-07120a42-ce90-4901-b45b-1f38bf548258')\"\n",
              "            title=\"Suggest charts.\"\n",
              "            style=\"display:none;\">\n",
              "\n",
              "<svg xmlns=\"http://www.w3.org/2000/svg\" height=\"24px\"viewBox=\"0 0 24 24\"\n",
              "     width=\"24px\">\n",
              "    <g>\n",
              "        <path d=\"M19 3H5c-1.1 0-2 .9-2 2v14c0 1.1.9 2 2 2h14c1.1 0 2-.9 2-2V5c0-1.1-.9-2-2-2zM9 17H7v-7h2v7zm4 0h-2V7h2v10zm4 0h-2v-4h2v4z\"/>\n",
              "    </g>\n",
              "</svg>\n",
              "  </button>\n",
              "\n",
              "<style>\n",
              "  .colab-df-quickchart {\n",
              "      --bg-color: #E8F0FE;\n",
              "      --fill-color: #1967D2;\n",
              "      --hover-bg-color: #E2EBFA;\n",
              "      --hover-fill-color: #174EA6;\n",
              "      --disabled-fill-color: #AAA;\n",
              "      --disabled-bg-color: #DDD;\n",
              "  }\n",
              "\n",
              "  [theme=dark] .colab-df-quickchart {\n",
              "      --bg-color: #3B4455;\n",
              "      --fill-color: #D2E3FC;\n",
              "      --hover-bg-color: #434B5C;\n",
              "      --hover-fill-color: #FFFFFF;\n",
              "      --disabled-bg-color: #3B4455;\n",
              "      --disabled-fill-color: #666;\n",
              "  }\n",
              "\n",
              "  .colab-df-quickchart {\n",
              "    background-color: var(--bg-color);\n",
              "    border: none;\n",
              "    border-radius: 50%;\n",
              "    cursor: pointer;\n",
              "    display: none;\n",
              "    fill: var(--fill-color);\n",
              "    height: 32px;\n",
              "    padding: 0;\n",
              "    width: 32px;\n",
              "  }\n",
              "\n",
              "  .colab-df-quickchart:hover {\n",
              "    background-color: var(--hover-bg-color);\n",
              "    box-shadow: 0 1px 2px rgba(60, 64, 67, 0.3), 0 1px 3px 1px rgba(60, 64, 67, 0.15);\n",
              "    fill: var(--button-hover-fill-color);\n",
              "  }\n",
              "\n",
              "  .colab-df-quickchart-complete:disabled,\n",
              "  .colab-df-quickchart-complete:disabled:hover {\n",
              "    background-color: var(--disabled-bg-color);\n",
              "    fill: var(--disabled-fill-color);\n",
              "    box-shadow: none;\n",
              "  }\n",
              "\n",
              "  .colab-df-spinner {\n",
              "    border: 2px solid var(--fill-color);\n",
              "    border-color: transparent;\n",
              "    border-bottom-color: var(--fill-color);\n",
              "    animation:\n",
              "      spin 1s steps(1) infinite;\n",
              "  }\n",
              "\n",
              "  @keyframes spin {\n",
              "    0% {\n",
              "      border-color: transparent;\n",
              "      border-bottom-color: var(--fill-color);\n",
              "      border-left-color: var(--fill-color);\n",
              "    }\n",
              "    20% {\n",
              "      border-color: transparent;\n",
              "      border-left-color: var(--fill-color);\n",
              "      border-top-color: var(--fill-color);\n",
              "    }\n",
              "    30% {\n",
              "      border-color: transparent;\n",
              "      border-left-color: var(--fill-color);\n",
              "      border-top-color: var(--fill-color);\n",
              "      border-right-color: var(--fill-color);\n",
              "    }\n",
              "    40% {\n",
              "      border-color: transparent;\n",
              "      border-right-color: var(--fill-color);\n",
              "      border-top-color: var(--fill-color);\n",
              "    }\n",
              "    60% {\n",
              "      border-color: transparent;\n",
              "      border-right-color: var(--fill-color);\n",
              "    }\n",
              "    80% {\n",
              "      border-color: transparent;\n",
              "      border-right-color: var(--fill-color);\n",
              "      border-bottom-color: var(--fill-color);\n",
              "    }\n",
              "    90% {\n",
              "      border-color: transparent;\n",
              "      border-bottom-color: var(--fill-color);\n",
              "    }\n",
              "  }\n",
              "</style>\n",
              "\n",
              "  <script>\n",
              "    async function quickchart(key) {\n",
              "      const quickchartButtonEl =\n",
              "        document.querySelector('#' + key + ' button');\n",
              "      quickchartButtonEl.disabled = true;  // To prevent multiple clicks.\n",
              "      quickchartButtonEl.classList.add('colab-df-spinner');\n",
              "      try {\n",
              "        const charts = await google.colab.kernel.invokeFunction(\n",
              "            'suggestCharts', [key], {});\n",
              "      } catch (error) {\n",
              "        console.error('Error during call to suggestCharts:', error);\n",
              "      }\n",
              "      quickchartButtonEl.classList.remove('colab-df-spinner');\n",
              "      quickchartButtonEl.classList.add('colab-df-quickchart-complete');\n",
              "    }\n",
              "    (() => {\n",
              "      let quickchartButtonEl =\n",
              "        document.querySelector('#df-07120a42-ce90-4901-b45b-1f38bf548258 button');\n",
              "      quickchartButtonEl.style.display =\n",
              "        google.colab.kernel.accessAllowed ? 'block' : 'none';\n",
              "    })();\n",
              "  </script>\n",
              "</div>\n",
              "    </div>\n",
              "  </div>\n"
            ]
          },
          "metadata": {},
          "execution_count": 6
        }
      ]
    },
    {
      "cell_type": "markdown",
      "source": [
        "####Búsqueda de Mejores parámetros"
      ],
      "metadata": {
        "id": "CQ33maXBbJS4"
      }
    },
    {
      "cell_type": "code",
      "source": [
        "from sklearn.model_selection import train_test_split\n",
        "\n",
        "#Definición de los datos para entrenamiento y para testeo\n",
        "X = data.iloc[:, :11]\n",
        "y = data.iloc[:, 11]\n",
        "\n",
        "X_train, X_test, y_train, y_test = train_test_split(X, y, test_size=0.3, shuffle = True, stratify= y, random_state=11)"
      ],
      "metadata": {
        "id": "FVr1Itc_901Y"
      },
      "execution_count": null,
      "outputs": []
    },
    {
      "cell_type": "code",
      "source": [
        "#Modelo al que se quiere optimizar los hiperparámetros\n",
        "default_model = MLPClassifier(random_state = 11, max_iter = 1000)"
      ],
      "metadata": {
        "id": "idxHsWl1axHQ"
      },
      "execution_count": null,
      "outputs": []
    },
    {
      "cell_type": "code",
      "source": [
        "#GridSearch para un RNA de una capa\n",
        "one_layer_param_grid = {\n",
        "    'hidden_layer_sizes': [(i,) for i in range(2, 17, 2)],\n",
        "    'activation': ['relu', 'logistic', 'tanh', 'identity'],\n",
        "}\n",
        "\n",
        "one_layer_grid_search = GridSearchCV(estimator=default_model, param_grid=one_layer_param_grid ,cv = 5,scoring='accuracy')\n",
        "one_layer_grid_result = one_layer_grid_search.fit(X_train, y_train)\n",
        "\n",
        "print(\"Best parameters found: \", one_layer_grid_search.best_params_)\n",
        "print(\"Best accuracy found: {:.2f}\".format(one_layer_grid_search.best_score_ * 100))"
      ],
      "metadata": {
        "id": "KHDR7ncPAu4_",
        "colab": {
          "base_uri": "https://localhost:8080/"
        },
        "outputId": "abe1f5bd-094f-45ed-e1f3-e62d5d4d5d72"
      },
      "execution_count": null,
      "outputs": [
        {
          "output_type": "stream",
          "name": "stdout",
          "text": [
            "Best parameters found:  {'activation': 'tanh', 'hidden_layer_sizes': (14,)}\n",
            "Best accuracy found: 69.00\n"
          ]
        }
      ]
    },
    {
      "cell_type": "code",
      "source": [
        "#GridSearch para un RNA de dos capas\n",
        "two_layer_param_grid = {\n",
        "    'hidden_layer_sizes': [(i, i) for i in range(2, 17, 2)],\n",
        "    'activation': ['relu', 'logistic', 'tanh', 'identity'],\n",
        "}\n",
        "\n",
        "two_layer_grid_search = GridSearchCV(estimator=default_model, param_grid=two_layer_param_grid, cv = 5, scoring='accuracy')\n",
        "two_layer_grid_result = two_layer_grid_search.fit(X_train, y_train)\n",
        "\n",
        "print(\"Best parameters found: \", two_layer_grid_search.best_params_)\n",
        "print(\"Best accuracy found: {:.2f}\".format(two_layer_grid_search.best_score_ * 100))"
      ],
      "metadata": {
        "id": "y0Hl1jWVBAyA",
        "colab": {
          "base_uri": "https://localhost:8080/"
        },
        "outputId": "d5326e96-f040-4d9b-a885-bb96dcd1bb97"
      },
      "execution_count": null,
      "outputs": [
        {
          "output_type": "stream",
          "name": "stdout",
          "text": [
            "Best parameters found:  {'activation': 'identity', 'hidden_layer_sizes': (14, 14)}\n",
            "Best accuracy found: 69.00\n"
          ]
        }
      ]
    },
    {
      "cell_type": "code",
      "source": [
        "# Análisis para la red neuronal con solo una capa\n",
        "neurons = [param['hidden_layer_sizes'] for param in one_layer_grid_result.cv_results_['params']]\n",
        "activations = [param['activation'] for param in one_layer_grid_result.cv_results_['params']]\n",
        "accuracy = one_layer_grid_result.cv_results_['mean_test_score']\n",
        "\n",
        "activation_data = {}\n",
        "for i, activation in enumerate(activations):\n",
        "    if activation not in activation_data:\n",
        "        activation_data[activation] = {'neurons': [], 'accuracy': []}\n",
        "    activation_data[activation]['neurons'].append(neurons[i][0])\n",
        "    activation_data[activation]['accuracy'].append(accuracy[i])\n",
        "\n",
        "plt.figure(figsize=(8, 6))\n",
        "for activation, data in activation_data.items():\n",
        "    plt.plot(data['neurons'], data['accuracy'], marker='o', label=f'Activation: {activation}')\n",
        "\n",
        "plt.xlabel('Número de Neuronas en la Capa Oculta')\n",
        "plt.ylabel('Precisión')\n",
        "plt.title('Precisión del Modelo para Diferentes Configuraciones de Neuronas y Activaciones en una capa')\n",
        "plt.xticks([2, 4, 6, 8, 10, 12, 14, 16])\n",
        "plt.legend()\n",
        "plt.grid(True)\n",
        "plt.tight_layout()\n",
        "plt.show()"
      ],
      "metadata": {
        "colab": {
          "base_uri": "https://localhost:8080/",
          "height": 607
        },
        "id": "P7k-7z-OXyyS",
        "outputId": "a932e3a6-a94e-4e09-98c4-fbcadf659a18"
      },
      "execution_count": null,
      "outputs": [
        {
          "output_type": "display_data",
          "data": {
            "text/plain": [
              "<Figure size 800x600 with 1 Axes>"
            ],
            "image/png": "[encoded data removed]"
          },
          "metadata": {}
        }
      ]
    },
    {
      "cell_type": "code",
      "source": [
        "#Top 15 better configs\n",
        "results = pd.DataFrame(one_layer_grid_result.cv_results_)\n",
        "top_configs = results.sort_values(by='mean_test_score', ascending=False).head(15)\n",
        "\n",
        "df_top = pd.DataFrame()\n",
        "df_top['Activation'] = top_configs.param_activation\n",
        "df_top['Hidden layer sizes'] =  top_configs.param_hidden_layer_sizes\n",
        "df_top['Rank'] = top_configs.rank_test_score\n",
        "df_top['Accuracy'] =  top_configs.mean_test_score\n",
        "\n",
        "df_top"
      ],
      "metadata": {
        "colab": {
          "base_uri": "https://localhost:8080/",
          "height": 520
        },
        "id": "fr6lENvOiaTQ",
        "outputId": "a96c2d72-3390-4fc7-90b8-3fa736c1ee49"
      },
      "execution_count": null,
      "outputs": [
        {
          "output_type": "execute_result",
          "data": {
            "text/plain": [
              "   Activation Hidden layer sizes  Rank  Accuracy\n",
              "22       tanh              (14,)     1  0.689986\n",
              "12   logistic              (10,)     2  0.687661\n",
              "10   logistic               (6,)     2  0.687661\n",
              "20       tanh              (10,)     2  0.687661\n",
              "19       tanh               (8,)     2  0.687661\n",
              "27   identity               (8,)     2  0.687661\n",
              "15   logistic              (16,)     2  0.687661\n",
              "14   logistic              (14,)     2  0.687661\n",
              "13   logistic              (12,)     2  0.687661\n",
              "11   logistic               (8,)     2  0.687661\n",
              "23       tanh              (16,)     2  0.687661\n",
              "8    logistic               (2,)     2  0.687661\n",
              "4        relu              (10,)     2  0.687661\n",
              "16       tanh               (2,)    14  0.680629\n",
              "9    logistic               (4,)    15  0.678358"
            ],
            "text/html": [
              "\n",
              "  <div id=\"df-af9bcfec-5223-40cb-a083-35c9fb225525\" class=\"colab-df-container\">\n",
              "    <div>\n",
              "<style scoped>\n",
              "    .dataframe tbody tr th:only-of-type {\n",
              "        vertical-align: middle;\n",
              "    }\n",
              "\n",
              "    .dataframe tbody tr th {\n",
              "        vertical-align: top;\n",
              "    }\n",
              "\n",
              "    .dataframe thead th {\n",
              "        text-align: right;\n",
              "    }\n",
              "</style>\n",
              "<table border=\"1\" class=\"dataframe\">\n",
              "  <thead>\n",
              "    <tr style=\"text-align: right;\">\n",
              "      <th></th>\n",
              "      <th>Activation</th>\n",
              "      <th>Hidden layer sizes</th>\n",
              "      <th>Rank</th>\n",
              "      <th>Accuracy</th>\n",
              "    </tr>\n",
              "  </thead>\n",
              "  <tbody>\n",
              "    <tr>\n",
              "      <th>22</th>\n",
              "      <td>tanh</td>\n",
              "      <td>(14,)</td>\n",
              "      <td>1</td>\n",
              "      <td>0.689986</td>\n",
              "    </tr>\n",
              "    <tr>\n",
              "      <th>12</th>\n",
              "      <td>logistic</td>\n",
              "      <td>(10,)</td>\n",
              "      <td>2</td>\n",
              "      <td>0.687661</td>\n",
              "    </tr>\n",
              "    <tr>\n",
              "      <th>10</th>\n",
              "      <td>logistic</td>\n",
              "      <td>(6,)</td>\n",
              "      <td>2</td>\n",
              "      <td>0.687661</td>\n",
              "    </tr>\n",
              "    <tr>\n",
              "      <th>20</th>\n",
              "      <td>tanh</td>\n",
              "      <td>(10,)</td>\n",
              "      <td>2</td>\n",
              "      <td>0.687661</td>\n",
              "    </tr>\n",
              "    <tr>\n",
              "      <th>19</th>\n",
              "      <td>tanh</td>\n",
              "      <td>(8,)</td>\n",
              "      <td>2</td>\n",
              "      <td>0.687661</td>\n",
              "    </tr>\n",
              "    <tr>\n",
              "      <th>27</th>\n",
              "      <td>identity</td>\n",
              "      <td>(8,)</td>\n",
              "      <td>2</td>\n",
              "      <td>0.687661</td>\n",
              "    </tr>\n",
              "    <tr>\n",
              "      <th>15</th>\n",
              "      <td>logistic</td>\n",
              "      <td>(16,)</td>\n",
              "      <td>2</td>\n",
              "      <td>0.687661</td>\n",
              "    </tr>\n",
              "    <tr>\n",
              "      <th>14</th>\n",
              "      <td>logistic</td>\n",
              "      <td>(14,)</td>\n",
              "      <td>2</td>\n",
              "      <td>0.687661</td>\n",
              "    </tr>\n",
              "    <tr>\n",
              "      <th>13</th>\n",
              "      <td>logistic</td>\n",
              "      <td>(12,)</td>\n",
              "      <td>2</td>\n",
              "      <td>0.687661</td>\n",
              "    </tr>\n",
              "    <tr>\n",
              "      <th>11</th>\n",
              "      <td>logistic</td>\n",
              "      <td>(8,)</td>\n",
              "      <td>2</td>\n",
              "      <td>0.687661</td>\n",
              "    </tr>\n",
              "    <tr>\n",
              "      <th>23</th>\n",
              "      <td>tanh</td>\n",
              "      <td>(16,)</td>\n",
              "      <td>2</td>\n",
              "      <td>0.687661</td>\n",
              "    </tr>\n",
              "    <tr>\n",
              "      <th>8</th>\n",
              "      <td>logistic</td>\n",
              "      <td>(2,)</td>\n",
              "      <td>2</td>\n",
              "      <td>0.687661</td>\n",
              "    </tr>\n",
              "    <tr>\n",
              "      <th>4</th>\n",
              "      <td>relu</td>\n",
              "      <td>(10,)</td>\n",
              "      <td>2</td>\n",
              "      <td>0.687661</td>\n",
              "    </tr>\n",
              "    <tr>\n",
              "      <th>16</th>\n",
              "      <td>tanh</td>\n",
              "      <td>(2,)</td>\n",
              "      <td>14</td>\n",
              "      <td>0.680629</td>\n",
              "    </tr>\n",
              "    <tr>\n",
              "      <th>9</th>\n",
              "      <td>logistic</td>\n",
              "      <td>(4,)</td>\n",
              "      <td>15</td>\n",
              "      <td>0.678358</td>\n",
              "    </tr>\n",
              "  </tbody>\n",
              "</table>\n",
              "</div>\n",
              "    <div class=\"colab-df-buttons\">\n",
              "\n",
              "  <div class=\"colab-df-container\">\n",
              "    <button class=\"colab-df-convert\" onclick=\"convertToInteractive('df-af9bcfec-5223-40cb-a083-35c9fb225525')\"\n",
              "            title=\"Convert this dataframe to an interactive table.\"\n",
              "            style=\"display:none;\">\n",
              "\n",
              "  <svg xmlns=\"http://www.w3.org/2000/svg\" height=\"24px\" viewBox=\"0 -960 960 960\">\n",
              "    <path d=\"M120-120v-720h720v720H120Zm60-500h600v-160H180v160Zm220 220h160v-160H400v160Zm0 220h160v-160H400v160ZM180-400h160v-160H180v160Zm440 0h160v-160H620v160ZM180-180h160v-160H180v160Zm440 0h160v-160H620v160Z\"/>\n",
              "  </svg>\n",
              "    </button>\n",
              "\n",
              "  <style>\n",
              "    .colab-df-container {\n",
              "      display:flex;\n",
              "      gap: 12px;\n",
              "    }\n",
              "\n",
              "    .colab-df-convert {\n",
              "      background-color: #E8F0FE;\n",
              "      border: none;\n",
              "      border-radius: 50%;\n",
              "      cursor: pointer;\n",
              "      display: none;\n",
              "      fill: #1967D2;\n",
              "      height: 32px;\n",
              "      padding: 0 0 0 0;\n",
              "      width: 32px;\n",
              "    }\n",
              "\n",
              "    .colab-df-convert:hover {\n",
              "      background-color: #E2EBFA;\n",
              "      box-shadow: 0px 1px 2px rgba(60, 64, 67, 0.3), 0px 1px 3px 1px rgba(60, 64, 67, 0.15);\n",
              "      fill: #174EA6;\n",
              "    }\n",
              "\n",
              "    .colab-df-buttons div {\n",
              "      margin-bottom: 4px;\n",
              "    }\n",
              "\n",
              "    [theme=dark] .colab-df-convert {\n",
              "      background-color: #3B4455;\n",
              "      fill: #D2E3FC;\n",
              "    }\n",
              "\n",
              "    [theme=dark] .colab-df-convert:hover {\n",
              "      background-color: #434B5C;\n",
              "      box-shadow: 0px 1px 3px 1px rgba(0, 0, 0, 0.15);\n",
              "      filter: drop-shadow(0px 1px 2px rgba(0, 0, 0, 0.3));\n",
              "      fill: #FFFFFF;\n",
              "    }\n",
              "  </style>\n",
              "\n",
              "    <script>\n",
              "      const buttonEl =\n",
              "        document.querySelector('#df-af9bcfec-5223-40cb-a083-35c9fb225525 button.colab-df-convert');\n",
              "      buttonEl.style.display =\n",
              "        google.colab.kernel.accessAllowed ? 'block' : 'none';\n",
              "\n",
              "      async function convertToInteractive(key) {\n",
              "        const element = document.querySelector('#df-af9bcfec-5223-40cb-a083-35c9fb225525');\n",
              "        const dataTable =\n",
              "          await google.colab.kernel.invokeFunction('convertToInteractive',\n",
              "                                                    [key], {});\n",
              "        if (!dataTable) return;\n",
              "\n",
              "        const docLinkHtml = 'Like what you see? Visit the ' +\n",
              "          '<a target=\"_blank\" href=https://colab.research.google.com/notebooks/data_table.ipynb>data table notebook</a>'\n",
              "          + ' to learn more about interactive tables.';\n",
              "        element.innerHTML = '';\n",
              "        dataTable['output_type'] = 'display_data';\n",
              "        await google.colab.output.renderOutput(dataTable, element);\n",
              "        const docLink = document.createElement('div');\n",
              "        docLink.innerHTML = docLinkHtml;\n",
              "        element.appendChild(docLink);\n",
              "      }\n",
              "    </script>\n",
              "  </div>\n",
              "\n",
              "\n",
              "<div id=\"df-2b82ca9b-f3d8-48c2-8648-743dc46b591f\">\n",
              "  <button class=\"colab-df-quickchart\" onclick=\"quickchart('df-2b82ca9b-f3d8-48c2-8648-743dc46b591f')\"\n",
              "            title=\"Suggest charts.\"\n",
              "            style=\"display:none;\">\n",
              "\n",
              "<svg xmlns=\"http://www.w3.org/2000/svg\" height=\"24px\"viewBox=\"0 0 24 24\"\n",
              "     width=\"24px\">\n",
              "    <g>\n",
              "        <path d=\"M19 3H5c-1.1 0-2 .9-2 2v14c0 1.1.9 2 2 2h14c1.1 0 2-.9 2-2V5c0-1.1-.9-2-2-2zM9 17H7v-7h2v7zm4 0h-2V7h2v10zm4 0h-2v-4h2v4z\"/>\n",
              "    </g>\n",
              "</svg>\n",
              "  </button>\n",
              "\n",
              "<style>\n",
              "  .colab-df-quickchart {\n",
              "      --bg-color: #E8F0FE;\n",
              "      --fill-color: #1967D2;\n",
              "      --hover-bg-color: #E2EBFA;\n",
              "      --hover-fill-color: #174EA6;\n",
              "      --disabled-fill-color: #AAA;\n",
              "      --disabled-bg-color: #DDD;\n",
              "  }\n",
              "\n",
              "  [theme=dark] .colab-df-quickchart {\n",
              "      --bg-color: #3B4455;\n",
              "      --fill-color: #D2E3FC;\n",
              "      --hover-bg-color: #434B5C;\n",
              "      --hover-fill-color: #FFFFFF;\n",
              "      --disabled-bg-color: #3B4455;\n",
              "      --disabled-fill-color: #666;\n",
              "  }\n",
              "\n",
              "  .colab-df-quickchart {\n",
              "    background-color: var(--bg-color);\n",
              "    border: none;\n",
              "    border-radius: 50%;\n",
              "    cursor: pointer;\n",
              "    display: none;\n",
              "    fill: var(--fill-color);\n",
              "    height: 32px;\n",
              "    padding: 0;\n",
              "    width: 32px;\n",
              "  }\n",
              "\n",
              "  .colab-df-quickchart:hover {\n",
              "    background-color: var(--hover-bg-color);\n",
              "    box-shadow: 0 1px 2px rgba(60, 64, 67, 0.3), 0 1px 3px 1px rgba(60, 64, 67, 0.15);\n",
              "    fill: var(--button-hover-fill-color);\n",
              "  }\n",
              "\n",
              "  .colab-df-quickchart-complete:disabled,\n",
              "  .colab-df-quickchart-complete:disabled:hover {\n",
              "    background-color: var(--disabled-bg-color);\n",
              "    fill: var(--disabled-fill-color);\n",
              "    box-shadow: none;\n",
              "  }\n",
              "\n",
              "  .colab-df-spinner {\n",
              "    border: 2px solid var(--fill-color);\n",
              "    border-color: transparent;\n",
              "    border-bottom-color: var(--fill-color);\n",
              "    animation:\n",
              "      spin 1s steps(1) infinite;\n",
              "  }\n",
              "\n",
              "  @keyframes spin {\n",
              "    0% {\n",
              "      border-color: transparent;\n",
              "      border-bottom-color: var(--fill-color);\n",
              "      border-left-color: var(--fill-color);\n",
              "    }\n",
              "    20% {\n",
              "      border-color: transparent;\n",
              "      border-left-color: var(--fill-color);\n",
              "      border-top-color: var(--fill-color);\n",
              "    }\n",
              "    30% {\n",
              "      border-color: transparent;\n",
              "      border-left-color: var(--fill-color);\n",
              "      border-top-color: var(--fill-color);\n",
              "      border-right-color: var(--fill-color);\n",
              "    }\n",
              "    40% {\n",
              "      border-color: transparent;\n",
              "      border-right-color: var(--fill-color);\n",
              "      border-top-color: var(--fill-color);\n",
              "    }\n",
              "    60% {\n",
              "      border-color: transparent;\n",
              "      border-right-color: var(--fill-color);\n",
              "    }\n",
              "    80% {\n",
              "      border-color: transparent;\n",
              "      border-right-color: var(--fill-color);\n",
              "      border-bottom-color: var(--fill-color);\n",
              "    }\n",
              "    90% {\n",
              "      border-color: transparent;\n",
              "      border-bottom-color: var(--fill-color);\n",
              "    }\n",
              "  }\n",
              "</style>\n",
              "\n",
              "  <script>\n",
              "    async function quickchart(key) {\n",
              "      const quickchartButtonEl =\n",
              "        document.querySelector('#' + key + ' button');\n",
              "      quickchartButtonEl.disabled = true;  // To prevent multiple clicks.\n",
              "      quickchartButtonEl.classList.add('colab-df-spinner');\n",
              "      try {\n",
              "        const charts = await google.colab.kernel.invokeFunction(\n",
              "            'suggestCharts', [key], {});\n",
              "      } catch (error) {\n",
              "        console.error('Error during call to suggestCharts:', error);\n",
              "      }\n",
              "      quickchartButtonEl.classList.remove('colab-df-spinner');\n",
              "      quickchartButtonEl.classList.add('colab-df-quickchart-complete');\n",
              "    }\n",
              "    (() => {\n",
              "      let quickchartButtonEl =\n",
              "        document.querySelector('#df-2b82ca9b-f3d8-48c2-8648-743dc46b591f button');\n",
              "      quickchartButtonEl.style.display =\n",
              "        google.colab.kernel.accessAllowed ? 'block' : 'none';\n",
              "    })();\n",
              "  </script>\n",
              "</div>\n",
              "    </div>\n",
              "  </div>\n"
            ]
          },
          "metadata": {},
          "execution_count": 12
        }
      ]
    },
    {
      "cell_type": "code",
      "source": [
        "# Análisis para la red neuronal con dos capas\n",
        "neurons = [param['hidden_layer_sizes'] for param in two_layer_grid_result.cv_results_['params']]\n",
        "activations = [param['activation'] for param in two_layer_grid_result.cv_results_['params']]\n",
        "accuracy = two_layer_grid_result.cv_results_['mean_test_score']\n",
        "\n",
        "activation_data = {}\n",
        "for i, activation in enumerate(activations):\n",
        "    if activation not in activation_data:\n",
        "        activation_data[activation] = {'neurons': [], 'accuracy': []}\n",
        "    activation_data[activation]['neurons'].append(neurons[i][0])\n",
        "    activation_data[activation]['accuracy'].append(accuracy[i])\n",
        "\n",
        "plt.figure(figsize=(8, 6))\n",
        "for activation, data in activation_data.items():\n",
        "    plt.plot(data['neurons'], data['accuracy'], marker='o', label=f'Activation: {activation}')\n",
        "\n",
        "plt.xlabel('Número de Neuronas en la Capa Oculta')\n",
        "plt.ylabel('Precisión')\n",
        "plt.title('Precisión del Modelo para Diferentes Configuraciones de Neuronas y Activaciones en dos capas')\n",
        "plt.xticks([2, 4, 6, 8, 10, 12, 14, 16])\n",
        "plt.legend()\n",
        "plt.grid(True)\n",
        "plt.tight_layout()\n",
        "plt.show()"
      ],
      "metadata": {
        "colab": {
          "base_uri": "https://localhost:8080/",
          "height": 607
        },
        "id": "2JBRfmX2d1O9",
        "outputId": "14968919-d379-49a6-dd62-f21583777c46"
      },
      "execution_count": null,
      "outputs": [
        {
          "output_type": "display_data",
          "data": {
            "text/plain": [
              "<Figure size 800x600 with 1 Axes>"
            ],
            "image/png": "[encoded data removed]"
          },
          "metadata": {}
        }
      ]
    },
    {
      "cell_type": "markdown",
      "source": [
        "#### Análisis de capas y número de neuronas\n",
        "\n",
        "Los resultados vistos en las 2 gráficas nos sugieren que la diferencia en el la precisión entre una red de 1 capa y de 2 capas es mínima, por lo tanto podemos ir por el modelo que usa una única capa debido a que es más simple y requiere menos poder computacional.\n",
        "\n",
        "Los hiperparametros de `activation` que nos ofrecen mayor precisión son el de `tanh` y `logistic`, sus valores máximos son muy parecidos, poseen diferencias del orden de 1*E-3,porlo cual no es una diferencia alarmante. La configuración de hiperparámetros más óptima es aquella con `activation = tanh, neurons = 12`, ofreciendo una precisión de 70.166895, pero con la configuración  `activation = logistic, neurons = 2` se consigue una precisión de 70.164159, un valor muy al anterior y usando solo 2 neuronas.\n",
        "\n",
        "Los expuesto anteriormente sugiere que el mejor modelo, por ahora, es el el que está configurado con `activation = logistic, neurons = 2`\n"
      ],
      "metadata": {
        "id": "2bpJmxNIetH0"
      }
    },
    {
      "cell_type": "markdown",
      "source": [
        "####Cálculo de la Matriz de Confusión\n",
        "\n",
        "Para este procesos se crea el modelo basado en los mejores parámetros obtenidos en el paso anterior, luego este modelo es puesto bajo entrenamiento bajo el marco de una validación cruzada usando el método de StratifiedKFold usando 5 splits"
      ],
      "metadata": {
        "id": "ZToraF6diTWw"
      }
    },
    {
      "cell_type": "code",
      "source": [
        "model = MLPClassifier(activation = 'logistic' , hidden_layer_sizes = (2,), random_state = 11, max_iter=1000).fit(X_train, y_train)\n",
        "model"
      ],
      "metadata": {
        "id": "WO2oZzuH_-Tl",
        "colab": {
          "base_uri": "https://localhost:8080/",
          "height": 92
        },
        "outputId": "f5a613bb-a9a1-4a40-99bc-4a1e5eaf8bf8"
      },
      "execution_count": null,
      "outputs": [
        {
          "output_type": "execute_result",
          "data": {
            "text/plain": [
              "MLPClassifier(activation='logistic', hidden_layer_sizes=(2,), max_iter=1000,\n",
              "              random_state=11)"
            ],
            "text/html": [
              "<style>#sk-container-id-1 {color: black;background-color: white;}#sk-container-id-1 pre{padding: 0;}#sk-container-id-1 div.sk-toggleable {background-color: white;}#sk-container-id-1 label.sk-toggleable__label {cursor: pointer;display: block;width: 100%;margin-bottom: 0;padding: 0.3em;box-sizing: border-box;text-align: center;}#sk-container-id-1 label.sk-toggleable__label-arrow:before {content: \"▸\";float: left;margin-right: 0.25em;color: #696969;}#sk-container-id-1 label.sk-toggleable__label-arrow:hover:before {color: black;}#sk-container-id-1 div.sk-estimator:hover label.sk-toggleable__label-arrow:before {color: black;}#sk-container-id-1 div.sk-toggleable__content {max-height: 0;max-width: 0;overflow: hidden;text-align: left;background-color: #f0f8ff;}#sk-container-id-1 div.sk-toggleable__content pre {margin: 0.2em;color: black;border-radius: 0.25em;background-color: #f0f8ff;}#sk-container-id-1 input.sk-toggleable__control:checked~div.sk-toggleable__content {max-height: 200px;max-width: 100%;overflow: auto;}#sk-container-id-1 input.sk-toggleable__control:checked~label.sk-toggleable__label-arrow:before {content: \"▾\";}#sk-container-id-1 div.sk-estimator input.sk-toggleable__control:checked~label.sk-toggleable__label {background-color: #d4ebff;}#sk-container-id-1 div.sk-label input.sk-toggleable__control:checked~label.sk-toggleable__label {background-color: #d4ebff;}#sk-container-id-1 input.sk-hidden--visually {border: 0;clip: rect(1px 1px 1px 1px);clip: rect(1px, 1px, 1px, 1px);height: 1px;margin: -1px;overflow: hidden;padding: 0;position: absolute;width: 1px;}#sk-container-id-1 div.sk-estimator {font-family: monospace;background-color: #f0f8ff;border: 1px dotted black;border-radius: 0.25em;box-sizing: border-box;margin-bottom: 0.5em;}#sk-container-id-1 div.sk-estimator:hover {background-color: #d4ebff;}#sk-container-id-1 div.sk-parallel-item::after {content: \"\";width: 100%;border-bottom: 1px solid gray;flex-grow: 1;}#sk-container-id-1 div.sk-label:hover label.sk-toggleable__label {background-color: #d4ebff;}#sk-container-id-1 div.sk-serial::before {content: \"\";position: absolute;border-left: 1px solid gray;box-sizing: border-box;top: 0;bottom: 0;left: 50%;z-index: 0;}#sk-container-id-1 div.sk-serial {display: flex;flex-direction: column;align-items: center;background-color: white;padding-right: 0.2em;padding-left: 0.2em;position: relative;}#sk-container-id-1 div.sk-item {position: relative;z-index: 1;}#sk-container-id-1 div.sk-parallel {display: flex;align-items: stretch;justify-content: center;background-color: white;position: relative;}#sk-container-id-1 div.sk-item::before, #sk-container-id-1 div.sk-parallel-item::before {content: \"\";position: absolute;border-left: 1px solid gray;box-sizing: border-box;top: 0;bottom: 0;left: 50%;z-index: -1;}#sk-container-id-1 div.sk-parallel-item {display: flex;flex-direction: column;z-index: 1;position: relative;background-color: white;}#sk-container-id-1 div.sk-parallel-item:first-child::after {align-self: flex-end;width: 50%;}#sk-container-id-1 div.sk-parallel-item:last-child::after {align-self: flex-start;width: 50%;}#sk-container-id-1 div.sk-parallel-item:only-child::after {width: 0;}#sk-container-id-1 div.sk-dashed-wrapped {border: 1px dashed gray;margin: 0 0.4em 0.5em 0.4em;box-sizing: border-box;padding-bottom: 0.4em;background-color: white;}#sk-container-id-1 div.sk-label label {font-family: monospace;font-weight: bold;display: inline-block;line-height: 1.2em;}#sk-container-id-1 div.sk-label-container {text-align: center;}#sk-container-id-1 div.sk-container {/* jupyter's `normalize.less` sets `[hidden] { display: none; }` but bootstrap.min.css set `[hidden] { display: none !important; }` so we also need the `!important` here to be able to override the default hidden behavior on the sphinx rendered scikit-learn.org. See: https://github.com/scikit-learn/scikit-learn/issues/21755 */display: inline-block !important;position: relative;}#sk-container-id-1 div.sk-text-repr-fallback {display: none;}</style><div id=\"sk-container-id-1\" class=\"sk-top-container\"><div class=\"sk-text-repr-fallback\"><pre>MLPClassifier(activation=&#x27;logistic&#x27;, hidden_layer_sizes=(2,), max_iter=1000,\n",
              "              random_state=11)</pre><b>In a Jupyter environment, please rerun this cell to show the HTML representation or trust the notebook. <br />On GitHub, the HTML representation is unable to render, please try loading this page with nbviewer.org.</b></div><div class=\"sk-container\" hidden><div class=\"sk-item\"><div class=\"sk-estimator sk-toggleable\"><input class=\"sk-toggleable__control sk-hidden--visually\" id=\"sk-estimator-id-1\" type=\"checkbox\" checked><label for=\"sk-estimator-id-1\" class=\"sk-toggleable__label sk-toggleable__label-arrow\">MLPClassifier</label><div class=\"sk-toggleable__content\"><pre>MLPClassifier(activation=&#x27;logistic&#x27;, hidden_layer_sizes=(2,), max_iter=1000,\n",
              "              random_state=11)</pre></div></div></div></div></div>"
            ]
          },
          "metadata": {},
          "execution_count": 14
        }
      ]
    },
    {
      "cell_type": "code",
      "source": [
        "train_accuracy = model.score(X_train, y_train)\n",
        "test_accuracy = model.score(X_test, y_test)\n",
        "\n",
        "print('Accuracy en el conjunto de datos de entrenamiento:' + str(train_accuracy))\n",
        "print('Accuracy en el conjunto de datos de testeo:' + str(test_accuracy))"
      ],
      "metadata": {
        "colab": {
          "base_uri": "https://localhost:8080/"
        },
        "id": "LxVeOaJ2xJr1",
        "outputId": "3f5c07e3-b718-4c0a-a678-5b49bb346281"
      },
      "execution_count": null,
      "outputs": [
        {
          "output_type": "stream",
          "name": "stdout",
          "text": [
            "Accuracy en el conjunto de datos de entrenamiento:0.6876456876456877\n",
            "Accuracy en el conjunto de datos de testeo:0.6864864864864865\n"
          ]
        }
      ]
    },
    {
      "cell_type": "code",
      "source": [
        "from sklearn.model_selection import StratifiedKFold, cross_val_predict\n",
        "from sklearn.metrics import confusion_matrix, ConfusionMatrixDisplay\n",
        "\n",
        "stratified_kfold = StratifiedKFold(n_splits=5, random_state=11, shuffle=True)\n",
        "\n",
        "# Realiza la validación cruzada estratificada y obtención de predicciones\n",
        "y_pred = cross_val_predict(model, X_test, y_test, cv=stratified_kfold)\n",
        "\n",
        "# Visualiza la matriz de confusión\n",
        "conf_matrix = confusion_matrix(y_test, y_pred)\n",
        "\n",
        "disp = ConfusionMatrixDisplay(confusion_matrix=conf_matrix, display_labels=[\"Clase 0\", \"Clase 1\"])\n",
        "disp.plot(cmap=plt.cm.Blues, values_format=\".0f\")\n",
        "plt.title('Matriz de Confusión')\n",
        "plt.show()"
      ],
      "metadata": {
        "colab": {
          "base_uri": "https://localhost:8080/",
          "height": 472
        },
        "id": "52l3cUaFLeaH",
        "outputId": "c023f341-33a7-40cc-9e32-171a9c4db691"
      },
      "execution_count": null,
      "outputs": [
        {
          "output_type": "display_data",
          "data": {
            "text/plain": [
              "<Figure size 640x480 with 2 Axes>"
            ],
            "image/png": "[encoded data removed]"
          },
          "metadata": {}
        }
      ]
    },
    {
      "cell_type": "markdown",
      "source": [
        "Esta matriz es leída de la siguiente manera:\n",
        "\n",
        "| Verdaderos Negativos (TN) | Falsos Positivos (FP) |\n",
        "| ------------------------- | ---------------------- |\n",
        "| Falsos Negativos (FN)     | Verdaderos Positivos (TP) |\n",
        "\n"
      ],
      "metadata": {
        "id": "jwZwbJwtjQq4"
      }
    },
    {
      "cell_type": "code",
      "source": [
        "from sklearn.metrics import accuracy_score, precision_score, recall_score, f1_score, matthews_corrcoef\n",
        "from sklearn.metrics import confusion_matrix\n",
        "\n",
        "# Calcular métricas usando funciones de Scikit-Learn\n",
        "precision = precision_score(y_test, y_pred)\n",
        "accuracy = accuracy_score(y_test, y_pred)\n",
        "recall = recall_score(y_test, y_pred)\n",
        "f1 = f1_score(y_test, y_pred)\n",
        "mcc = matthews_corrcoef(y_test, y_pred)\n",
        "\n",
        "# Calcular especificidad y tasa de falsos positivos manualmente a partir de la matriz de confusión\n",
        "specificity = conf_matrix[0, 0] / (conf_matrix[0, 0] + conf_matrix[0, 1])\n",
        "fpr = conf_matrix[0, 1] / (conf_matrix[0, 0] + conf_matrix[0, 1])\n",
        "\n",
        "# Calcular precisión balanceada (BACC)\n",
        "bacc = (recall + specificity) / 2\n",
        "\n",
        "# Imprimir las métricas\n",
        "print(\"Precisión: {:.2f}\".format(precision))\n",
        "print(\"Exactitud: {:.2f}\".format(accuracy))\n",
        "print(\"Recall: {:.2f}\".format(recall))\n",
        "print(\"F1-score: {:.2f}\".format(f1))\n",
        "print(\"Coeficiente de Correlación de Matthews (MCC): {:.2f}\".format(mcc))\n",
        "print(\"Especificidad: {:.2f}\".format(specificity))\n",
        "print(\"Tasa de Falsos Positivos (FPR): {:.2f}\".format(fpr))\n",
        "print(\"Precisión Balanceada (BACC): {:.2f}\".format(bacc))"
      ],
      "metadata": {
        "colab": {
          "base_uri": "https://localhost:8080/"
        },
        "id": "SjURL0VYFafd",
        "outputId": "c79567a7-68cc-4023-abd3-f04716a541f8"
      },
      "execution_count": null,
      "outputs": [
        {
          "output_type": "stream",
          "name": "stdout",
          "text": [
            "Precisión: 0.68\n",
            "Exactitud: 0.66\n",
            "Recall: 0.95\n",
            "F1-score: 0.80\n",
            "Coeficiente de Correlación de Matthews (MCC): -0.03\n",
            "Especificidad: 0.03\n",
            "Tasa de Falsos Positivos (FPR): 0.97\n",
            "Precisión Balanceada (BACC): 0.49\n"
          ]
        }
      ]
    },
    {
      "cell_type": "markdown",
      "source": [
        "####Implementación del modelo con algoritmos de balanceo de clases"
      ],
      "metadata": {
        "id": "hOjwyUASyOMT"
      }
    },
    {
      "cell_type": "code",
      "source": [
        "from sklearn.model_selection import KFold\n",
        "\n",
        "def calc_metrics(x, y, X_test, y_test, description):\n",
        "\n",
        "  model = MLPClassifier(activation = 'logistic' , hidden_layer_sizes = (2,), random_state = 11, max_iter=1000).fit(x, y)\n",
        "\n",
        "  print('\\n' + description + '\\n')\n",
        "  print('Accuracy en el conjunto de datos de entrenamiento:' +str(model.score(x, y)))\n",
        "  print('Accuracy en el conjunto de datos de testeo:' +str(model.score(X_test, y_test)))\n",
        "\n",
        "  y_pred = model.predict(X_test)\n",
        "  kfold = KFold(n_splits=10, random_state=11, shuffle=True)\n",
        "  y_pred = cross_val_predict(model, X_test, y_test, cv=kfold)\n",
        "  conf_matrix = confusion_matrix(y_test, y_pred)\n",
        "  disp = ConfusionMatrixDisplay(confusion_matrix=conf_matrix, display_labels=[\"Clase 0\", \"Clase 1\"])\n",
        "  disp.plot(cmap=plt.cm.Blues, values_format=\".0f\")\n",
        "  plt.title('Matriz de Confusión')\n",
        "  plt.show()\n",
        "\n",
        "  precision = precision_score(y_test, y_pred)\n",
        "  accuracy = accuracy_score(y_test, y_pred)\n",
        "  recall = recall_score(y_test, y_pred)\n",
        "  f1 = f1_score(y_test, y_pred)\n",
        "  mcc = matthews_corrcoef(y_test, y_pred)\n",
        "  specificity = conf_matrix[0, 0] / (conf_matrix[0, 0] + conf_matrix[0, 1])\n",
        "  fpr = conf_matrix[0, 1] / (conf_matrix[0, 0] + conf_matrix[0, 1])\n",
        "  bacc = (recall + specificity) / 2\n",
        "  # Imprimir las métricas\n",
        "  print(\"Precisión: {:.2f}\".format(precision))\n",
        "  print(\"Exactitud: {:.2f}\".format(accuracy))\n",
        "  print(\"Recall: {:.2f}\".format(recall))\n",
        "  print(\"F1-score: {:.2f}\".format(f1))\n",
        "  print(\"Coeficiente de Correlación de Matthews (MCC): {:.2f}\".format(mcc))\n",
        "  print(\"Especificidad: {:.2f}\".format(specificity))\n",
        "  print(\"Tasa de Falsos Positivos (FPR): {:.2f}\".format(fpr))\n",
        "  print(\"Precisión Balanceada (BACC): {:.2f}\".format(bacc))\n"
      ],
      "metadata": {
        "id": "blCTCB9EEexN"
      },
      "execution_count": null,
      "outputs": []
    },
    {
      "cell_type": "code",
      "source": [
        "from imblearn.over_sampling import SMOTE, ADASYN\n",
        "from collections import Counter"
      ],
      "metadata": {
        "id": "Duj08GiwjT0G"
      },
      "execution_count": null,
      "outputs": []
    },
    {
      "cell_type": "code",
      "source": [
        "calc_metrics(X_train, y_train, X_test, y_test, 'ORIGINAL')"
      ],
      "metadata": {
        "colab": {
          "base_uri": "https://localhost:8080/",
          "height": 698
        },
        "id": "0AyGWldoHAzO",
        "outputId": "f77befe1-6bf4-4f8c-878b-eed5e7e91e25"
      },
      "execution_count": null,
      "outputs": [
        {
          "output_type": "stream",
          "name": "stdout",
          "text": [
            "\n",
            "ORIGINAL\n",
            "\n",
            "Accuracy en el conjunto de datos de entrenamiento:0.6876456876456877\n",
            "Accuracy en el conjunto de datos de testeo:0.6864864864864865\n"
          ]
        },
        {
          "output_type": "display_data",
          "data": {
            "text/plain": [
              "<Figure size 640x480 with 2 Axes>"
            ],
            "image/png": "[encoded data removed]"
          },
          "metadata": {}
        },
        {
          "output_type": "stream",
          "name": "stdout",
          "text": [
            "Precisión: 0.68\n",
            "Exactitud: 0.66\n",
            "Recall: 0.97\n",
            "F1-score: 0.80\n",
            "Coeficiente de Correlación de Matthews (MCC): -0.10\n",
            "Especificidad: 0.00\n",
            "Tasa de Falsos Positivos (FPR): 1.00\n",
            "Precisión Balanceada (BACC): 0.48\n"
          ]
        }
      ]
    },
    {
      "cell_type": "code",
      "source": [
        "class_distribution_before = pd.Series(y_train).value_counts()\n",
        "print('Datos antes del sobremuestreo: ')\n",
        "print(class_distribution_before)\n",
        "\n",
        "X_smote, y_smote = SMOTE().fit_resample(X_train, y_train)\n",
        "\n",
        "class_distribution_after = pd.Series(y_smote).value_counts()\n",
        "print('Datos antes del sobremuestreo: ')\n",
        "print(class_distribution_after)\n",
        "\n",
        "calc_metrics(X_smote, y_smote, X_test, y_test, 'SMOTE')"
      ],
      "metadata": {
        "colab": {
          "base_uri": "https://localhost:8080/",
          "height": 837
        },
        "id": "Wd1yQaWzFeok",
        "outputId": "b76af2df-69ac-40e7-8828-59e9f7db2e07"
      },
      "execution_count": null,
      "outputs": [
        {
          "output_type": "stream",
          "name": "stdout",
          "text": [
            "Datos antes del sobremuestreo: \n",
            "1    295\n",
            "0    134\n",
            "Name: Loan_Status, dtype: int64\n",
            "Datos antes del sobremuestreo: \n",
            "1    295\n",
            "0    295\n",
            "Name: Loan_Status, dtype: int64\n",
            "\n",
            "SMOTE\n",
            "\n",
            "Accuracy en el conjunto de datos de entrenamiento:0.5\n",
            "Accuracy en el conjunto de datos de testeo:0.31351351351351353\n"
          ]
        },
        {
          "output_type": "display_data",
          "data": {
            "text/plain": [
              "<Figure size 640x480 with 2 Axes>"
            ],
            "image/png": "[encoded data removed]"
          },
          "metadata": {}
        },
        {
          "output_type": "stream",
          "name": "stdout",
          "text": [
            "Precisión: 0.68\n",
            "Exactitud: 0.66\n",
            "Recall: 0.97\n",
            "F1-score: 0.80\n",
            "Coeficiente de Correlación de Matthews (MCC): -0.10\n",
            "Especificidad: 0.00\n",
            "Tasa de Falsos Positivos (FPR): 1.00\n",
            "Precisión Balanceada (BACC): 0.48\n"
          ]
        }
      ]
    },
    {
      "cell_type": "code",
      "source": [
        "class_distribution_before = pd.Series(y_train).value_counts()\n",
        "print('Datos antes del sobremuestreo: ')\n",
        "print(class_distribution_before)\n",
        "\n",
        "X_adasyn, y_adasyn = ADASYN().fit_resample(X_train, y_train)\n",
        "\n",
        "class_distribution_after = pd.Series(y_adasyn).value_counts()\n",
        "print('Datos antes del sobremuestreo: ')\n",
        "print(class_distribution_after)\n",
        "\n",
        "calc_metrics(X_adasyn, y_adasyn, X_test, y_test, 'ADASYN')"
      ],
      "metadata": {
        "colab": {
          "base_uri": "https://localhost:8080/",
          "height": 837
        },
        "id": "tyfWpm6qGilG",
        "outputId": "20aa7cab-2ce1-41e8-991e-f2975c5d0c70"
      },
      "execution_count": null,
      "outputs": [
        {
          "output_type": "stream",
          "name": "stdout",
          "text": [
            "Datos antes del sobremuestreo: \n",
            "1    295\n",
            "0    134\n",
            "Name: Loan_Status, dtype: int64\n",
            "Datos antes del sobremuestreo: \n",
            "1    295\n",
            "0    281\n",
            "Name: Loan_Status, dtype: int64\n",
            "\n",
            "ADASYN\n",
            "\n",
            "Accuracy en el conjunto de datos de entrenamiento:0.5399305555555556\n",
            "Accuracy en el conjunto de datos de testeo:0.654054054054054\n"
          ]
        },
        {
          "output_type": "display_data",
          "data": {
            "text/plain": [
              "<Figure size 640x480 with 2 Axes>"
            ],
            "image/png": "[encoded data removed]"
          },
          "metadata": {}
        },
        {
          "output_type": "stream",
          "name": "stdout",
          "text": [
            "Precisión: 0.68\n",
            "Exactitud: 0.66\n",
            "Recall: 0.97\n",
            "F1-score: 0.80\n",
            "Coeficiente de Correlación de Matthews (MCC): -0.10\n",
            "Especificidad: 0.00\n",
            "Tasa de Falsos Positivos (FPR): 1.00\n",
            "Precisión Balanceada (BACC): 0.48\n"
          ]
        }
      ]
    },
    {
      "cell_type": "code",
      "source": [
        "from imblearn.over_sampling import RandomOverSampler\n",
        "\n",
        "class_distribution_before = pd.Series(y_train).value_counts()\n",
        "print('Datos antes del sobremuestreo: ')\n",
        "print(class_distribution_before)\n",
        "\n",
        "X_ros, y_ros = RandomOverSampler().fit_resample(X_train, y_train)\n",
        "\n",
        "class_distribution_after = pd.Series(y_ros).value_counts()\n",
        "print('Datos antes del sobremuestreo: ')\n",
        "print(class_distribution_after)\n",
        "\n",
        "calc_metrics(X_ros, y_ros, X_test, y_test, 'Random OverSampling')"
      ],
      "metadata": {
        "colab": {
          "base_uri": "https://localhost:8080/",
          "height": 837
        },
        "id": "ZWOg7zXMMUrD",
        "outputId": "1235f8d5-ab2e-498b-c281-dc2d727cc7ae"
      },
      "execution_count": null,
      "outputs": [
        {
          "output_type": "stream",
          "name": "stdout",
          "text": [
            "Datos antes del sobremuestreo: \n",
            "1    295\n",
            "0    134\n",
            "Name: Loan_Status, dtype: int64\n",
            "Datos antes del sobremuestreo: \n",
            "1    295\n",
            "0    295\n",
            "Name: Loan_Status, dtype: int64\n",
            "\n",
            "Random OverSampling\n",
            "\n",
            "Accuracy en el conjunto de datos de entrenamiento:0.5\n",
            "Accuracy en el conjunto de datos de testeo:0.31351351351351353\n"
          ]
        },
        {
          "output_type": "display_data",
          "data": {
            "text/plain": [
              "<Figure size 640x480 with 2 Axes>"
            ],
            "image/png": "[encoded data removed]"
          },
          "metadata": {}
        },
        {
          "output_type": "stream",
          "name": "stdout",
          "text": [
            "Precisión: 0.68\n",
            "Exactitud: 0.66\n",
            "Recall: 0.97\n",
            "F1-score: 0.80\n",
            "Coeficiente de Correlación de Matthews (MCC): -0.10\n",
            "Especificidad: 0.00\n",
            "Tasa de Falsos Positivos (FPR): 1.00\n",
            "Precisión Balanceada (BACC): 0.48\n"
          ]
        }
      ]
    },
    {
      "cell_type": "markdown",
      "source": [
        "###Support Vector Machine"
      ],
      "metadata": {
        "id": "vk9slLyU29TU"
      }
    },
    {
      "cell_type": "code",
      "source": [
        "!pip install scikit-optimize\n",
        "!pip install imbalanced-learn"
      ],
      "metadata": {
        "colab": {
          "base_uri": "https://localhost:8080/"
        },
        "id": "pRoHTopTMgB0",
        "outputId": "2949710b-0c00-4e98-f691-aa4cd2d6c90a"
      },
      "execution_count": null,
      "outputs": [
        {
          "output_type": "stream",
          "name": "stdout",
          "text": [
            "Collecting scikit-optimize\n",
            "  Downloading scikit_optimize-0.9.0-py2.py3-none-any.whl (100 kB)\n",
            "\u001b[?25l     \u001b[90m━━━━━━━━━━━━━━━━━━━━━━━━━━━━━━━━━━━━━━━━\u001b[0m \u001b[32m0.0/100.3 kB\u001b[0m \u001b[31m?\u001b[0m eta \u001b[36m-:--:--\u001b[0m\r\u001b[2K     \u001b[90m━━━━━━━━━━━━━━━━━━━━━━━━━━━━━━━━━━━━━━━━\u001b[0m \u001b[32m100.3/100.3 kB\u001b[0m \u001b[31m2.9 MB/s\u001b[0m eta \u001b[36m0:00:00\u001b[0m\n",
            "\u001b[?25hRequirement already satisfied: joblib>=0.11 in /usr/local/lib/python3.10/dist-packages (from scikit-optimize) (1.3.2)\n",
            "Collecting pyaml>=16.9 (from scikit-optimize)\n",
            "  Downloading pyaml-23.9.7-py3-none-any.whl (23 kB)\n",
            "Requirement already satisfied: numpy>=1.13.3 in /usr/local/lib/python3.10/dist-packages (from scikit-optimize) (1.23.5)\n",
            "Requirement already satisfied: scipy>=0.19.1 in /usr/local/lib/python3.10/dist-packages (from scikit-optimize) (1.11.3)\n",
            "Requirement already satisfied: scikit-learn>=0.20.0 in /usr/local/lib/python3.10/dist-packages (from scikit-optimize) (1.2.2)\n",
            "Requirement already satisfied: PyYAML in /usr/local/lib/python3.10/dist-packages (from pyaml>=16.9->scikit-optimize) (6.0.1)\n",
            "Requirement already satisfied: threadpoolctl>=2.0.0 in /usr/local/lib/python3.10/dist-packages (from scikit-learn>=0.20.0->scikit-optimize) (3.2.0)\n",
            "Installing collected packages: pyaml, scikit-optimize\n",
            "Successfully installed pyaml-23.9.7 scikit-optimize-0.9.0\n",
            "Requirement already satisfied: imbalanced-learn in /usr/local/lib/python3.10/dist-packages (0.10.1)\n",
            "Requirement already satisfied: numpy>=1.17.3 in /usr/local/lib/python3.10/dist-packages (from imbalanced-learn) (1.23.5)\n",
            "Requirement already satisfied: scipy>=1.3.2 in /usr/local/lib/python3.10/dist-packages (from imbalanced-learn) (1.11.3)\n",
            "Requirement already satisfied: scikit-learn>=1.0.2 in /usr/local/lib/python3.10/dist-packages (from imbalanced-learn) (1.2.2)\n",
            "Requirement already satisfied: joblib>=1.1.1 in /usr/local/lib/python3.10/dist-packages (from imbalanced-learn) (1.3.2)\n",
            "Requirement already satisfied: threadpoolctl>=2.0.0 in /usr/local/lib/python3.10/dist-packages (from imbalanced-learn) (3.2.0)\n"
          ]
        }
      ]
    },
    {
      "cell_type": "code",
      "source": [
        "from sklearn.model_selection import train_test_split\n",
        "from sklearn.svm import SVC\n",
        "from sklearn.metrics import accuracy_score\n",
        "from imblearn.over_sampling import SMOTE\n",
        "from imblearn.under_sampling import RandomUnderSampler\n",
        "import pandas as pd\n",
        "from sklearn.model_selection import GridSearchCV\n",
        "from sklearn.metrics import accuracy_score\n",
        "from imblearn.under_sampling import TomekLinks\n",
        "from sklearn import datasets"
      ],
      "metadata": {
        "id": "fePuILmmMrfb"
      },
      "execution_count": null,
      "outputs": []
    },
    {
      "cell_type": "code",
      "source": [
        "# Importación de datos de entrenamiento limpios (De momento haré la importación de los datos subiendo el archivo)\n",
        "data_train_clean = pd.read_csv('clean_data_train.csv')\n",
        "\n",
        "X = data_train_clean.iloc[:, :-1]\n",
        "y = data_train_clean.iloc[:, -1]\n",
        "\n",
        "X_train, X_test, y_train, y_test = train_test_split(X, y, test_size=0.2, random_state=10)"
      ],
      "metadata": {
        "id": "G0RRwFF8M7tR"
      },
      "execution_count": null,
      "outputs": []
    },
    {
      "cell_type": "code",
      "source": [
        "# Rango de valores para los hiperparámetros a ajustar\n",
        "param_grid = {\n",
        "    'C': [0.1, 1, 5],\n",
        "    'kernel': ['linear', 'rbf'],\n",
        "}"
      ],
      "metadata": {
        "id": "X94qcnlcNN3j"
      },
      "execution_count": null,
      "outputs": []
    },
    {
      "cell_type": "code",
      "source": [
        "grid_search = GridSearchCV(SVC(), param_grid, cv=5, scoring='accuracy', n_jobs=-1)"
      ],
      "metadata": {
        "id": "W7XiJVuw1V2a"
      },
      "execution_count": null,
      "outputs": []
    },
    {
      "cell_type": "code",
      "source": [
        "grid_search.fit(X_train, y_train)"
      ],
      "metadata": {
        "colab": {
          "base_uri": "https://localhost:8080/",
          "height": 117
        },
        "id": "eatP4a4tKwtF",
        "outputId": "e55ee477-f2e9-464c-c019-c73801c863ae"
      },
      "execution_count": null,
      "outputs": [
        {
          "output_type": "execute_result",
          "data": {
            "text/plain": [
              "GridSearchCV(cv=5, estimator=SVC(), n_jobs=-1,\n",
              "             param_grid={'C': [0.1, 1, 5], 'kernel': ['linear', 'rbf']},\n",
              "             scoring='accuracy')"
            ],
            "text/html": [
              "<style>#sk-container-id-3 {color: black;background-color: white;}#sk-container-id-3 pre{padding: 0;}#sk-container-id-3 div.sk-toggleable {background-color: white;}#sk-container-id-3 label.sk-toggleable__label {cursor: pointer;display: block;width: 100%;margin-bottom: 0;padding: 0.3em;box-sizing: border-box;text-align: center;}#sk-container-id-3 label.sk-toggleable__label-arrow:before {content: \"▸\";float: left;margin-right: 0.25em;color: #696969;}#sk-container-id-3 label.sk-toggleable__label-arrow:hover:before {color: black;}#sk-container-id-3 div.sk-estimator:hover label.sk-toggleable__label-arrow:before {color: black;}#sk-container-id-3 div.sk-toggleable__content {max-height: 0;max-width: 0;overflow: hidden;text-align: left;background-color: #f0f8ff;}#sk-container-id-3 div.sk-toggleable__content pre {margin: 0.2em;color: black;border-radius: 0.25em;background-color: #f0f8ff;}#sk-container-id-3 input.sk-toggleable__control:checked~div.sk-toggleable__content {max-height: 200px;max-width: 100%;overflow: auto;}#sk-container-id-3 input.sk-toggleable__control:checked~label.sk-toggleable__label-arrow:before {content: \"▾\";}#sk-container-id-3 div.sk-estimator input.sk-toggleable__control:checked~label.sk-toggleable__label {background-color: #d4ebff;}#sk-container-id-3 div.sk-label input.sk-toggleable__control:checked~label.sk-toggleable__label {background-color: #d4ebff;}#sk-container-id-3 input.sk-hidden--visually {border: 0;clip: rect(1px 1px 1px 1px);clip: rect(1px, 1px, 1px, 1px);height: 1px;margin: -1px;overflow: hidden;padding: 0;position: absolute;width: 1px;}#sk-container-id-3 div.sk-estimator {font-family: monospace;background-color: #f0f8ff;border: 1px dotted black;border-radius: 0.25em;box-sizing: border-box;margin-bottom: 0.5em;}#sk-container-id-3 div.sk-estimator:hover {background-color: #d4ebff;}#sk-container-id-3 div.sk-parallel-item::after {content: \"\";width: 100%;border-bottom: 1px solid gray;flex-grow: 1;}#sk-container-id-3 div.sk-label:hover label.sk-toggleable__label {background-color: #d4ebff;}#sk-container-id-3 div.sk-serial::before {content: \"\";position: absolute;border-left: 1px solid gray;box-sizing: border-box;top: 0;bottom: 0;left: 50%;z-index: 0;}#sk-container-id-3 div.sk-serial {display: flex;flex-direction: column;align-items: center;background-color: white;padding-right: 0.2em;padding-left: 0.2em;position: relative;}#sk-container-id-3 div.sk-item {position: relative;z-index: 1;}#sk-container-id-3 div.sk-parallel {display: flex;align-items: stretch;justify-content: center;background-color: white;position: relative;}#sk-container-id-3 div.sk-item::before, #sk-container-id-3 div.sk-parallel-item::before {content: \"\";position: absolute;border-left: 1px solid gray;box-sizing: border-box;top: 0;bottom: 0;left: 50%;z-index: -1;}#sk-container-id-3 div.sk-parallel-item {display: flex;flex-direction: column;z-index: 1;position: relative;background-color: white;}#sk-container-id-3 div.sk-parallel-item:first-child::after {align-self: flex-end;width: 50%;}#sk-container-id-3 div.sk-parallel-item:last-child::after {align-self: flex-start;width: 50%;}#sk-container-id-3 div.sk-parallel-item:only-child::after {width: 0;}#sk-container-id-3 div.sk-dashed-wrapped {border: 1px dashed gray;margin: 0 0.4em 0.5em 0.4em;box-sizing: border-box;padding-bottom: 0.4em;background-color: white;}#sk-container-id-3 div.sk-label label {font-family: monospace;font-weight: bold;display: inline-block;line-height: 1.2em;}#sk-container-id-3 div.sk-label-container {text-align: center;}#sk-container-id-3 div.sk-container {/* jupyter's `normalize.less` sets `[hidden] { display: none; }` but bootstrap.min.css set `[hidden] { display: none !important; }` so we also need the `!important` here to be able to override the default hidden behavior on the sphinx rendered scikit-learn.org. See: https://github.com/scikit-learn/scikit-learn/issues/21755 */display: inline-block !important;position: relative;}#sk-container-id-3 div.sk-text-repr-fallback {display: none;}</style><div id=\"sk-container-id-3\" class=\"sk-top-container\"><div class=\"sk-text-repr-fallback\"><pre>GridSearchCV(cv=5, estimator=SVC(), n_jobs=-1,\n",
              "             param_grid={&#x27;C&#x27;: [0.1, 1, 5], &#x27;kernel&#x27;: [&#x27;linear&#x27;, &#x27;rbf&#x27;]},\n",
              "             scoring=&#x27;accuracy&#x27;)</pre><b>In a Jupyter environment, please rerun this cell to show the HTML representation or trust the notebook. <br />On GitHub, the HTML representation is unable to render, please try loading this page with nbviewer.org.</b></div><div class=\"sk-container\" hidden><div class=\"sk-item sk-dashed-wrapped\"><div class=\"sk-label-container\"><div class=\"sk-label sk-toggleable\"><input class=\"sk-toggleable__control sk-hidden--visually\" id=\"sk-estimator-id-5\" type=\"checkbox\" ><label for=\"sk-estimator-id-5\" class=\"sk-toggleable__label sk-toggleable__label-arrow\">GridSearchCV</label><div class=\"sk-toggleable__content\"><pre>GridSearchCV(cv=5, estimator=SVC(), n_jobs=-1,\n",
              "             param_grid={&#x27;C&#x27;: [0.1, 1, 5], &#x27;kernel&#x27;: [&#x27;linear&#x27;, &#x27;rbf&#x27;]},\n",
              "             scoring=&#x27;accuracy&#x27;)</pre></div></div></div><div class=\"sk-parallel\"><div class=\"sk-parallel-item\"><div class=\"sk-item\"><div class=\"sk-label-container\"><div class=\"sk-label sk-toggleable\"><input class=\"sk-toggleable__control sk-hidden--visually\" id=\"sk-estimator-id-6\" type=\"checkbox\" ><label for=\"sk-estimator-id-6\" class=\"sk-toggleable__label sk-toggleable__label-arrow\">estimator: SVC</label><div class=\"sk-toggleable__content\"><pre>SVC()</pre></div></div></div><div class=\"sk-serial\"><div class=\"sk-item\"><div class=\"sk-estimator sk-toggleable\"><input class=\"sk-toggleable__control sk-hidden--visually\" id=\"sk-estimator-id-7\" type=\"checkbox\" ><label for=\"sk-estimator-id-7\" class=\"sk-toggleable__label sk-toggleable__label-arrow\">SVC</label><div class=\"sk-toggleable__content\"><pre>SVC()</pre></div></div></div></div></div></div></div></div></div></div>"
            ]
          },
          "metadata": {},
          "execution_count": 22
        }
      ]
    },
    {
      "cell_type": "code",
      "source": [
        "best_params = grid_search.best_params_\n",
        "\n",
        "best_model = grid_search.best_estimator_\n",
        "\n",
        "accuracy = best_model.score(X_test, y_test)\n",
        "\n",
        "print(\"Mejores hiperparámetros encontrados:\", best_params)\n",
        "print(\"Precisión en datos de prueba:\", accuracy)"
      ],
      "metadata": {
        "colab": {
          "base_uri": "https://localhost:8080/"
        },
        "id": "GlMb3_uMoRHV",
        "outputId": "200a5cba-cc3a-447c-cc2a-571a92a7d142"
      },
      "execution_count": null,
      "outputs": [
        {
          "output_type": "stream",
          "name": "stdout",
          "text": [
            "Mejores hiperparámetros encontrados: {'C': 1, 'kernel': 'linear'}\n",
            "Precisión en datos de prueba: 0.7642276422764228\n"
          ]
        }
      ]
    },
    {
      "cell_type": "code",
      "source": [
        "!pip install imbalanced-learn"
      ],
      "metadata": {
        "colab": {
          "base_uri": "https://localhost:8080/"
        },
        "id": "FHPcI0ozotzl",
        "outputId": "522b17ed-6cea-4c39-828d-f03023802f6b"
      },
      "execution_count": null,
      "outputs": [
        {
          "output_type": "stream",
          "name": "stdout",
          "text": [
            "Requirement already satisfied: imbalanced-learn in /usr/local/lib/python3.10/dist-packages (0.10.1)\n",
            "Requirement already satisfied: numpy>=1.17.3 in /usr/local/lib/python3.10/dist-packages (from imbalanced-learn) (1.23.5)\n",
            "Requirement already satisfied: scipy>=1.3.2 in /usr/local/lib/python3.10/dist-packages (from imbalanced-learn) (1.11.3)\n",
            "Requirement already satisfied: scikit-learn>=1.0.2 in /usr/local/lib/python3.10/dist-packages (from imbalanced-learn) (1.2.2)\n",
            "Requirement already satisfied: joblib>=1.1.1 in /usr/local/lib/python3.10/dist-packages (from imbalanced-learn) (1.3.2)\n",
            "Requirement already satisfied: threadpoolctl>=2.0.0 in /usr/local/lib/python3.10/dist-packages (from imbalanced-learn) (3.2.0)\n"
          ]
        }
      ]
    },
    {
      "cell_type": "code",
      "source": [
        "from sklearn import datasets\n",
        "from sklearn.model_selection import train_test_split\n",
        "from sklearn.svm import SVC\n",
        "from sklearn.metrics import accuracy_score\n",
        "from imblearn.under_sampling import TomekLinks  # Importa el módulo para Tomek Links\n",
        "from sklearn.metrics import confusion_matrix, accuracy_score, classification_report\n",
        "import matplotlib.pyplot as plt\n",
        "import seaborn as sns\n",
        "\n",
        "# Aplica Tomek Links para eliminar ejemplos de clases opuestas en los datos de entrenamiento\n",
        "tl = TomekLinks()\n",
        "X_resampled, y_resampled = tl.fit_resample(X_train, y_train)\n",
        "\n",
        "# Crea un clasificador SVM con los mejores hiperparámetros\n",
        "svm = SVC(C=1, kernel='linear')\n",
        "\n",
        "# Entrena el modelo SVM en los datos de entrenamiento equilibrados\n",
        "svm.fit(X_resampled, y_resampled)\n",
        "\n",
        "# Realiza predicciones en los datos de prueba\n",
        "y_pred = svm.predict(X_test)\n",
        "\n",
        "# Evalúa el modelo en los datos de prueba\n",
        "accuracy = accuracy_score(y_test, y_pred)\n",
        "print(\"Accuracy:\", accuracy)\n"
      ],
      "metadata": {
        "colab": {
          "base_uri": "https://localhost:8080/"
        },
        "id": "1ANKrvHoZR2s",
        "outputId": "0620a0f1-1371-42c4-c2da-4000c5c015ad"
      },
      "execution_count": null,
      "outputs": [
        {
          "output_type": "stream",
          "name": "stdout",
          "text": [
            "Accuracy: 0.7723577235772358\n"
          ]
        }
      ]
    },
    {
      "cell_type": "code",
      "source": [
        "# Calcular la matriz de confusión\n",
        "conf_matrix = confusion_matrix(y_test, y_pred)\n",
        "\n",
        "print(\"Matriz de Confusión:\")\n",
        "print(conf_matrix)\n",
        "\n",
        "plt.figure(figsize=(8, 6))\n",
        "sns.heatmap(conf_matrix, annot=True, fmt=\"d\", cmap=\"Blues\")\n",
        "plt.xlabel(\"Predicted\")\n",
        "plt.ylabel(\"Actual\")\n",
        "plt.title(\"Matriz de Confusión\")\n",
        "plt.show()\n",
        "\n",
        "report = classification_report(y_test, y_pred)\n",
        "print(\"Reporte de Clasificación:\")\n",
        "print(report)"
      ],
      "metadata": {
        "colab": {
          "base_uri": "https://localhost:8080/",
          "height": 790
        },
        "id": "yrnJMG7M6o_b",
        "outputId": "db09bf94-a35c-4d72-a638-705a7d27b7a2"
      },
      "execution_count": null,
      "outputs": [
        {
          "output_type": "stream",
          "name": "stdout",
          "text": [
            "Matriz de Confusión:\n",
            "[[11 25]\n",
            " [ 3 84]]\n"
          ]
        },
        {
          "output_type": "display_data",
          "data": {
            "text/plain": [
              "<Figure size 800x600 with 2 Axes>"
            ],
            "image/png": "[encoded data removed]"
          },
          "metadata": {}
        },
        {
          "output_type": "stream",
          "name": "stdout",
          "text": [
            "Reporte de Clasificación:\n",
            "              precision    recall  f1-score   support\n",
            "\n",
            "           0       0.79      0.31      0.44        36\n",
            "           1       0.77      0.97      0.86        87\n",
            "\n",
            "    accuracy                           0.77       123\n",
            "   macro avg       0.78      0.64      0.65       123\n",
            "weighted avg       0.78      0.77      0.74       123\n",
            "\n"
          ]
        }
      ]
    },
    {
      "cell_type": "code",
      "source": [
        "from sklearn.model_selection import cross_val_predict\n",
        "from sklearn.metrics import roc_curve, auc\n",
        "import matplotlib.pyplot as plt\n",
        "\n",
        "\n",
        "# Calcular la curva ROC\n",
        "y_scores = cross_val_predict(svm, X_resampled, y_resampled, cv=5, method='decision_function')\n",
        "\n",
        "fpr, tpr, thresholds = roc_curve(y_resampled, y_scores)\n",
        "\n",
        "roc_auc = auc(fpr, tpr)\n",
        "\n",
        "plt.figure(figsize=(8, 6))\n",
        "plt.plot(fpr, tpr, color='darkorange', lw=2, label='Curva ROC (AUC = %0.2f)' % roc_auc)\n",
        "plt.plot([0, 1], [0, 1], color='navy', lw=2, linestyle='--')\n",
        "plt.xlim([0.0, 1.0])\n",
        "plt.ylim([0.0, 1.05])\n",
        "plt.xlabel('Tasa de Falsos Positivos (FPR)')\n",
        "plt.ylabel('Tasa de Verdaderos Positivos (TPR)')\n",
        "plt.title('Curva ROC con Validación Cruzada')\n",
        "plt.legend(loc='lower right')\n",
        "plt.show()\n"
      ],
      "metadata": {
        "colab": {
          "base_uri": "https://localhost:8080/",
          "height": 564
        },
        "id": "EKAJV-wbHZ1U",
        "outputId": "fa8ebb5b-9631-4802-a4af-445339a4b350"
      },
      "execution_count": null,
      "outputs": [
        {
          "output_type": "display_data",
          "data": {
            "text/plain": [
              "<Figure size 800x600 with 1 Axes>"
            ],
            "image/png": "[encoded data removed]"
          },
          "metadata": {}
        }
      ]
    }
  ]
}